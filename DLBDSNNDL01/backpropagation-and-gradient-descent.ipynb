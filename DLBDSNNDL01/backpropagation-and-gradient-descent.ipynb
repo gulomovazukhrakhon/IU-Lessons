{
 "cells": [
  {
   "cell_type": "code",
   "execution_count": 1,
   "id": "a86dd59d",
   "metadata": {
    "_cell_guid": "b1076dfc-b9ad-4769-8c92-a6c4dae69d19",
    "_uuid": "8f2839f25d086af736a60e9eeb907d3b93b6e0e5",
    "collapsed": true,
    "execution": {
     "iopub.execute_input": "2024-01-17T17:03:23.324486Z",
     "iopub.status.busy": "2024-01-17T17:03:23.324129Z",
     "iopub.status.idle": "2024-01-17T17:03:51.586935Z",
     "shell.execute_reply": "2024-01-17T17:03:51.585793Z"
    },
    "jupyter": {
     "outputs_hidden": true
    },
    "papermill": {
     "duration": 28.270938,
     "end_time": "2024-01-17T17:03:51.589259",
     "exception": false,
     "start_time": "2024-01-17T17:03:23.318321",
     "status": "completed"
    },
    "tags": []
   },
   "outputs": [
    {
     "name": "stdout",
     "output_type": "stream",
     "text": [
      "Requirement already satisfied: keras in /opt/conda/lib/python3.10/site-packages (2.13.1)\r\n",
      "Collecting keras\r\n",
      "  Obtaining dependency information for keras from https://files.pythonhosted.org/packages/ca/48/643d21747d52fa380f572f76c493779fc5b4bd03605247209d2dd0a6d9a9/keras-3.0.2-py3-none-any.whl.metadata\r\n",
      "  Downloading keras-3.0.2-py3-none-any.whl.metadata (4.8 kB)\r\n",
      "Requirement already satisfied: absl-py in /opt/conda/lib/python3.10/site-packages (from keras) (1.4.0)\r\n",
      "Requirement already satisfied: numpy in /opt/conda/lib/python3.10/site-packages (from keras) (1.24.3)\r\n",
      "Requirement already satisfied: rich in /opt/conda/lib/python3.10/site-packages (from keras) (13.5.2)\r\n",
      "Requirement already satisfied: namex in /opt/conda/lib/python3.10/site-packages (from keras) (0.0.7)\r\n",
      "Requirement already satisfied: h5py in /opt/conda/lib/python3.10/site-packages (from keras) (3.9.0)\r\n",
      "Requirement already satisfied: dm-tree in /opt/conda/lib/python3.10/site-packages (from keras) (0.1.8)\r\n",
      "Requirement already satisfied: markdown-it-py>=2.2.0 in /opt/conda/lib/python3.10/site-packages (from rich->keras) (3.0.0)\r\n",
      "Requirement already satisfied: pygments<3.0.0,>=2.13.0 in /opt/conda/lib/python3.10/site-packages (from rich->keras) (2.16.1)\r\n",
      "Requirement already satisfied: mdurl~=0.1 in /opt/conda/lib/python3.10/site-packages (from markdown-it-py>=2.2.0->rich->keras) (0.1.2)\r\n",
      "Downloading keras-3.0.2-py3-none-any.whl (1.0 MB)\r\n",
      "\u001b[2K   \u001b[90m━━━━━━━━━━━━━━━━━━━━━━━━━━━━━━━━━━━━━━━━\u001b[0m \u001b[32m1.0/1.0 MB\u001b[0m \u001b[31m12.2 MB/s\u001b[0m eta \u001b[36m0:00:00\u001b[0m\r\n",
      "\u001b[?25hInstalling collected packages: keras\r\n",
      "  Attempting uninstall: keras\r\n",
      "    Found existing installation: keras 2.13.1\r\n",
      "    Uninstalling keras-2.13.1:\r\n",
      "      Successfully uninstalled keras-2.13.1\r\n",
      "\u001b[31mERROR: pip's dependency resolver does not currently take into account all the packages that are installed. This behaviour is the source of the following dependency conflicts.\r\n",
      "tensorflow 2.13.0 requires keras<2.14,>=2.13.1, but you have keras 3.0.2 which is incompatible.\r\n",
      "tensorflowjs 4.15.0 requires packaging~=23.1, but you have packaging 21.3 which is incompatible.\u001b[0m\u001b[31m\r\n",
      "\u001b[0mSuccessfully installed keras-3.0.2\r\n",
      "Requirement already satisfied: tensorflow in /opt/conda/lib/python3.10/site-packages (2.13.0)\r\n",
      "Requirement already satisfied: absl-py>=1.0.0 in /opt/conda/lib/python3.10/site-packages (from tensorflow) (1.4.0)\r\n",
      "Requirement already satisfied: astunparse>=1.6.0 in /opt/conda/lib/python3.10/site-packages (from tensorflow) (1.6.3)\r\n",
      "Requirement already satisfied: flatbuffers>=23.1.21 in /opt/conda/lib/python3.10/site-packages (from tensorflow) (23.5.26)\r\n",
      "Requirement already satisfied: gast<=0.4.0,>=0.2.1 in /opt/conda/lib/python3.10/site-packages (from tensorflow) (0.4.0)\r\n",
      "Requirement already satisfied: google-pasta>=0.1.1 in /opt/conda/lib/python3.10/site-packages (from tensorflow) (0.2.0)\r\n",
      "Requirement already satisfied: grpcio<2.0,>=1.24.3 in /opt/conda/lib/python3.10/site-packages (from tensorflow) (1.51.1)\r\n",
      "Requirement already satisfied: h5py>=2.9.0 in /opt/conda/lib/python3.10/site-packages (from tensorflow) (3.9.0)\r\n",
      "Collecting keras<2.14,>=2.13.1 (from tensorflow)\r\n",
      "  Obtaining dependency information for keras<2.14,>=2.13.1 from https://files.pythonhosted.org/packages/2e/f3/19da7511b45e80216cbbd9467137b2d28919c58ba1ccb971435cb631e470/keras-2.13.1-py3-none-any.whl.metadata\r\n",
      "  Downloading keras-2.13.1-py3-none-any.whl.metadata (2.4 kB)\r\n",
      "Requirement already satisfied: libclang>=13.0.0 in /opt/conda/lib/python3.10/site-packages (from tensorflow) (16.0.6)\r\n",
      "Requirement already satisfied: numpy<=1.24.3,>=1.22 in /opt/conda/lib/python3.10/site-packages (from tensorflow) (1.24.3)\r\n",
      "Requirement already satisfied: opt-einsum>=2.3.2 in /opt/conda/lib/python3.10/site-packages (from tensorflow) (3.3.0)\r\n",
      "Requirement already satisfied: packaging in /opt/conda/lib/python3.10/site-packages (from tensorflow) (21.3)\r\n",
      "Requirement already satisfied: protobuf!=4.21.0,!=4.21.1,!=4.21.2,!=4.21.3,!=4.21.4,!=4.21.5,<5.0.0dev,>=3.20.3 in /opt/conda/lib/python3.10/site-packages (from tensorflow) (3.20.3)\r\n",
      "Requirement already satisfied: setuptools in /opt/conda/lib/python3.10/site-packages (from tensorflow) (68.1.2)\r\n",
      "Requirement already satisfied: six>=1.12.0 in /opt/conda/lib/python3.10/site-packages (from tensorflow) (1.16.0)\r\n",
      "Requirement already satisfied: tensorboard<2.14,>=2.13 in /opt/conda/lib/python3.10/site-packages (from tensorflow) (2.13.0)\r\n",
      "Requirement already satisfied: tensorflow-estimator<2.14,>=2.13.0 in /opt/conda/lib/python3.10/site-packages (from tensorflow) (2.13.0)\r\n",
      "Requirement already satisfied: termcolor>=1.1.0 in /opt/conda/lib/python3.10/site-packages (from tensorflow) (2.3.0)\r\n",
      "Requirement already satisfied: typing-extensions<4.6.0,>=3.6.6 in /opt/conda/lib/python3.10/site-packages (from tensorflow) (4.5.0)\r\n",
      "Requirement already satisfied: wrapt>=1.11.0 in /opt/conda/lib/python3.10/site-packages (from tensorflow) (1.15.0)\r\n",
      "Requirement already satisfied: tensorflow-io-gcs-filesystem>=0.23.1 in /opt/conda/lib/python3.10/site-packages (from tensorflow) (0.34.0)\r\n",
      "Requirement already satisfied: wheel<1.0,>=0.23.0 in /opt/conda/lib/python3.10/site-packages (from astunparse>=1.6.0->tensorflow) (0.41.2)\r\n",
      "Requirement already satisfied: google-auth<3,>=1.6.3 in /opt/conda/lib/python3.10/site-packages (from tensorboard<2.14,>=2.13->tensorflow) (2.22.0)\r\n",
      "Requirement already satisfied: google-auth-oauthlib<1.1,>=0.5 in /opt/conda/lib/python3.10/site-packages (from tensorboard<2.14,>=2.13->tensorflow) (1.0.0)\r\n",
      "Requirement already satisfied: markdown>=2.6.8 in /opt/conda/lib/python3.10/site-packages (from tensorboard<2.14,>=2.13->tensorflow) (3.4.4)\r\n",
      "Requirement already satisfied: requests<3,>=2.21.0 in /opt/conda/lib/python3.10/site-packages (from tensorboard<2.14,>=2.13->tensorflow) (2.31.0)\r\n",
      "Requirement already satisfied: tensorboard-data-server<0.8.0,>=0.7.0 in /opt/conda/lib/python3.10/site-packages (from tensorboard<2.14,>=2.13->tensorflow) (0.7.1)\r\n",
      "Requirement already satisfied: werkzeug>=1.0.1 in /opt/conda/lib/python3.10/site-packages (from tensorboard<2.14,>=2.13->tensorflow) (3.0.1)\r\n",
      "Requirement already satisfied: pyparsing!=3.0.5,>=2.0.2 in /opt/conda/lib/python3.10/site-packages (from packaging->tensorflow) (3.0.9)\r\n",
      "Requirement already satisfied: cachetools<6.0,>=2.0.0 in /opt/conda/lib/python3.10/site-packages (from google-auth<3,>=1.6.3->tensorboard<2.14,>=2.13->tensorflow) (4.2.4)\r\n",
      "Requirement already satisfied: pyasn1-modules>=0.2.1 in /opt/conda/lib/python3.10/site-packages (from google-auth<3,>=1.6.3->tensorboard<2.14,>=2.13->tensorflow) (0.2.7)\r\n",
      "Requirement already satisfied: rsa<5,>=3.1.4 in /opt/conda/lib/python3.10/site-packages (from google-auth<3,>=1.6.3->tensorboard<2.14,>=2.13->tensorflow) (4.9)\r\n",
      "Requirement already satisfied: urllib3<2.0 in /opt/conda/lib/python3.10/site-packages (from google-auth<3,>=1.6.3->tensorboard<2.14,>=2.13->tensorflow) (1.26.15)\r\n",
      "Requirement already satisfied: requests-oauthlib>=0.7.0 in /opt/conda/lib/python3.10/site-packages (from google-auth-oauthlib<1.1,>=0.5->tensorboard<2.14,>=2.13->tensorflow) (1.3.1)\r\n",
      "Requirement already satisfied: charset-normalizer<4,>=2 in /opt/conda/lib/python3.10/site-packages (from requests<3,>=2.21.0->tensorboard<2.14,>=2.13->tensorflow) (3.2.0)\r\n",
      "Requirement already satisfied: idna<4,>=2.5 in /opt/conda/lib/python3.10/site-packages (from requests<3,>=2.21.0->tensorboard<2.14,>=2.13->tensorflow) (3.4)\r\n",
      "Requirement already satisfied: certifi>=2017.4.17 in /opt/conda/lib/python3.10/site-packages (from requests<3,>=2.21.0->tensorboard<2.14,>=2.13->tensorflow) (2023.11.17)\r\n",
      "Requirement already satisfied: MarkupSafe>=2.1.1 in /opt/conda/lib/python3.10/site-packages (from werkzeug>=1.0.1->tensorboard<2.14,>=2.13->tensorflow) (2.1.3)\r\n",
      "Requirement already satisfied: pyasn1<0.5.0,>=0.4.6 in /opt/conda/lib/python3.10/site-packages (from pyasn1-modules>=0.2.1->google-auth<3,>=1.6.3->tensorboard<2.14,>=2.13->tensorflow) (0.4.8)\r\n",
      "Requirement already satisfied: oauthlib>=3.0.0 in /opt/conda/lib/python3.10/site-packages (from requests-oauthlib>=0.7.0->google-auth-oauthlib<1.1,>=0.5->tensorboard<2.14,>=2.13->tensorflow) (3.2.2)\r\n",
      "Downloading keras-2.13.1-py3-none-any.whl (1.7 MB)\r\n",
      "\u001b[2K   \u001b[90m━━━━━━━━━━━━━━━━━━━━━━━━━━━━━━━━━━━━━━━━\u001b[0m \u001b[32m1.7/1.7 MB\u001b[0m \u001b[31m18.7 MB/s\u001b[0m eta \u001b[36m0:00:00\u001b[0m\r\n",
      "\u001b[?25hInstalling collected packages: keras\r\n",
      "  Attempting uninstall: keras\r\n",
      "    Found existing installation: keras 3.0.2\r\n",
      "    Uninstalling keras-3.0.2:\r\n",
      "      Successfully uninstalled keras-3.0.2\r\n",
      "\u001b[31mERROR: pip's dependency resolver does not currently take into account all the packages that are installed. This behaviour is the source of the following dependency conflicts.\r\n",
      "tensorflowjs 4.15.0 requires packaging~=23.1, but you have packaging 21.3 which is incompatible.\u001b[0m\u001b[31m\r\n",
      "\u001b[0mSuccessfully installed keras-2.13.1\r\n"
     ]
    }
   ],
   "source": [
    "!pip install keras --upgrade\n",
    "!pip install tensorflow "
   ]
  },
  {
   "cell_type": "markdown",
   "id": "3903f890",
   "metadata": {
    "papermill": {
     "duration": 0.005809,
     "end_time": "2024-01-17T17:03:51.601421",
     "exception": false,
     "start_time": "2024-01-17T17:03:51.595612",
     "status": "completed"
    },
    "tags": []
   },
   "source": [
    "### Notebook Imports"
   ]
  },
  {
   "cell_type": "code",
   "execution_count": 2,
   "id": "6724ae1f",
   "metadata": {
    "execution": {
     "iopub.execute_input": "2024-01-17T17:03:51.616261Z",
     "iopub.status.busy": "2024-01-17T17:03:51.615552Z",
     "iopub.status.idle": "2024-01-17T17:04:02.379845Z",
     "shell.execute_reply": "2024-01-17T17:04:02.379055Z"
    },
    "papermill": {
     "duration": 10.773835,
     "end_time": "2024-01-17T17:04:02.382253",
     "exception": false,
     "start_time": "2024-01-17T17:03:51.608418",
     "status": "completed"
    },
    "tags": []
   },
   "outputs": [
    {
     "name": "stderr",
     "output_type": "stream",
     "text": [
      "/opt/conda/lib/python3.10/site-packages/scipy/__init__.py:146: UserWarning: A NumPy version >=1.16.5 and <1.23.0 is required for this version of SciPy (detected version 1.24.3\n",
      "  warnings.warn(f\"A NumPy version >={np_minversion} and <{np_maxversion}\"\n"
     ]
    }
   ],
   "source": [
    "import tensorflow as tf\n",
    "import pandas as pd\n",
    "import matplotlib.pyplot as plt"
   ]
  },
  {
   "cell_type": "markdown",
   "id": "f4f4cecb",
   "metadata": {
    "papermill": {
     "duration": 0.005932,
     "end_time": "2024-01-17T17:04:02.394702",
     "exception": false,
     "start_time": "2024-01-17T17:04:02.388770",
     "status": "completed"
    },
    "tags": []
   },
   "source": [
    "### Preload the dataset"
   ]
  },
  {
   "cell_type": "code",
   "execution_count": 3,
   "id": "b36873f1",
   "metadata": {
    "execution": {
     "iopub.execute_input": "2024-01-17T17:04:02.409070Z",
     "iopub.status.busy": "2024-01-17T17:04:02.408124Z",
     "iopub.status.idle": "2024-01-17T17:04:06.850238Z",
     "shell.execute_reply": "2024-01-17T17:04:06.849308Z"
    },
    "papermill": {
     "duration": 4.451713,
     "end_time": "2024-01-17T17:04:06.852582",
     "exception": false,
     "start_time": "2024-01-17T17:04:02.400869",
     "status": "completed"
    },
    "tags": []
   },
   "outputs": [
    {
     "name": "stdout",
     "output_type": "stream",
     "text": [
      "Downloading data from https://storage.googleapis.com/tensorflow/tf-keras-datasets/train-labels-idx1-ubyte.gz\n",
      "29515/29515 [==============================] - 0s 1us/step\n",
      "Downloading data from https://storage.googleapis.com/tensorflow/tf-keras-datasets/train-images-idx3-ubyte.gz\n",
      "26421880/26421880 [==============================] - 2s 0us/step\n",
      "Downloading data from https://storage.googleapis.com/tensorflow/tf-keras-datasets/t10k-labels-idx1-ubyte.gz\n",
      "5148/5148 [==============================] - 0s 0us/step\n",
      "Downloading data from https://storage.googleapis.com/tensorflow/tf-keras-datasets/t10k-images-idx3-ubyte.gz\n",
      "4422102/4422102 [==============================] - 1s 0us/step\n"
     ]
    }
   ],
   "source": [
    "fashion_mnist = tf.keras.datasets.fashion_mnist\n",
    "(X_train_full, y_train_full), (X_test, y_test) = fashion_mnist.load_data()"
   ]
  },
  {
   "cell_type": "code",
   "execution_count": 4,
   "id": "84f625e8",
   "metadata": {
    "execution": {
     "iopub.execute_input": "2024-01-17T17:04:06.874885Z",
     "iopub.status.busy": "2024-01-17T17:04:06.874560Z",
     "iopub.status.idle": "2024-01-17T17:04:06.999634Z",
     "shell.execute_reply": "2024-01-17T17:04:06.998546Z"
    },
    "papermill": {
     "duration": 0.138592,
     "end_time": "2024-01-17T17:04:07.002032",
     "exception": false,
     "start_time": "2024-01-17T17:04:06.863440",
     "status": "completed"
    },
    "tags": []
   },
   "outputs": [],
   "source": [
    "X_valid, X_train = X_train_full[:5000] / 255.0, X_train_full[5000:] / 255.0\n",
    "\n",
    "y_valid, y_train = y_train_full[:5000], y_train_full[5000:]"
   ]
  },
  {
   "cell_type": "code",
   "execution_count": 5,
   "id": "247284e4",
   "metadata": {
    "execution": {
     "iopub.execute_input": "2024-01-17T17:04:07.024870Z",
     "iopub.status.busy": "2024-01-17T17:04:07.024484Z",
     "iopub.status.idle": "2024-01-17T17:04:07.029140Z",
     "shell.execute_reply": "2024-01-17T17:04:07.028221Z"
    },
    "papermill": {
     "duration": 0.01846,
     "end_time": "2024-01-17T17:04:07.031249",
     "exception": false,
     "start_time": "2024-01-17T17:04:07.012789",
     "status": "completed"
    },
    "tags": []
   },
   "outputs": [],
   "source": [
    "class_names = [\"T-shirt/top\", \"Trouser\", \"Pullover\", \"Dress\", \"Coat\", \n",
    "               \"Sandal\", \"Shirt\", \"Sneaker\", \"Bag\", \"Ankle boot\"]"
   ]
  },
  {
   "cell_type": "markdown",
   "id": "56f6b97b",
   "metadata": {
    "papermill": {
     "duration": 0.009985,
     "end_time": "2024-01-17T17:04:07.051727",
     "exception": false,
     "start_time": "2024-01-17T17:04:07.041742",
     "status": "completed"
    },
    "tags": []
   },
   "source": [
    "### Building the Neural Network"
   ]
  },
  {
   "cell_type": "code",
   "execution_count": 6,
   "id": "7f081e4d",
   "metadata": {
    "execution": {
     "iopub.execute_input": "2024-01-17T17:04:07.074481Z",
     "iopub.status.busy": "2024-01-17T17:04:07.074085Z",
     "iopub.status.idle": "2024-01-17T17:04:08.008330Z",
     "shell.execute_reply": "2024-01-17T17:04:08.007331Z"
    },
    "papermill": {
     "duration": 0.948312,
     "end_time": "2024-01-17T17:04:08.010705",
     "exception": false,
     "start_time": "2024-01-17T17:04:07.062393",
     "status": "completed"
    },
    "tags": []
   },
   "outputs": [],
   "source": [
    "model = tf.keras.models.Sequential([\n",
    "    tf.keras.layers.Flatten(input_shape=[28, 28]), \n",
    "    tf.keras.layers.Dense(300, activation=\"relu\"),\n",
    "    tf.keras.layers.Dense(100, activation=\"relu\"),       \n",
    "    tf.keras.layers.Dense(10, activation=\"softmax\")])"
   ]
  },
  {
   "cell_type": "markdown",
   "id": "74069903",
   "metadata": {
    "papermill": {
     "duration": 0.009993,
     "end_time": "2024-01-17T17:04:08.031950",
     "exception": false,
     "start_time": "2024-01-17T17:04:08.021957",
     "status": "completed"
    },
    "tags": []
   },
   "source": [
    "### Building the Model "
   ]
  },
  {
   "cell_type": "code",
   "execution_count": 7,
   "id": "ebb6c123",
   "metadata": {
    "execution": {
     "iopub.execute_input": "2024-01-17T17:04:08.053573Z",
     "iopub.status.busy": "2024-01-17T17:04:08.053272Z",
     "iopub.status.idle": "2024-01-17T17:04:08.068465Z",
     "shell.execute_reply": "2024-01-17T17:04:08.067614Z"
    },
    "papermill": {
     "duration": 0.028153,
     "end_time": "2024-01-17T17:04:08.070292",
     "exception": false,
     "start_time": "2024-01-17T17:04:08.042139",
     "status": "completed"
    },
    "tags": []
   },
   "outputs": [],
   "source": [
    "model.compile(loss='sparse_categorical_crossentropy', optimizer='sgd', metrics=['accuracy'])"
   ]
  },
  {
   "cell_type": "markdown",
   "id": "bcad6005",
   "metadata": {
    "papermill": {
     "duration": 0.009901,
     "end_time": "2024-01-17T17:04:08.090118",
     "exception": false,
     "start_time": "2024-01-17T17:04:08.080217",
     "status": "completed"
    },
    "tags": []
   },
   "source": [
    "### Training and evaluating the model"
   ]
  },
  {
   "cell_type": "code",
   "execution_count": 8,
   "id": "a91a500d",
   "metadata": {
    "execution": {
     "iopub.execute_input": "2024-01-17T17:04:08.111153Z",
     "iopub.status.busy": "2024-01-17T17:04:08.110818Z",
     "iopub.status.idle": "2024-01-17T17:07:18.131433Z",
     "shell.execute_reply": "2024-01-17T17:07:18.130600Z"
    },
    "papermill": {
     "duration": 190.033471,
     "end_time": "2024-01-17T17:07:18.133503",
     "exception": false,
     "start_time": "2024-01-17T17:04:08.100032",
     "status": "completed"
    },
    "tags": []
   },
   "outputs": [
    {
     "name": "stdout",
     "output_type": "stream",
     "text": [
      "Epoch 1/40\n",
      "1719/1719 [==============================] - 6s 3ms/step - loss: 0.7226 - accuracy: 0.7632 - val_loss: 0.5117 - val_accuracy: 0.8342\n",
      "Epoch 2/40\n",
      "1719/1719 [==============================] - 5s 3ms/step - loss: 0.4873 - accuracy: 0.8309 - val_loss: 0.4583 - val_accuracy: 0.8430\n",
      "Epoch 3/40\n",
      "1719/1719 [==============================] - 5s 3ms/step - loss: 0.4431 - accuracy: 0.8457 - val_loss: 0.4728 - val_accuracy: 0.8322\n",
      "Epoch 4/40\n",
      "1719/1719 [==============================] - 5s 3ms/step - loss: 0.4156 - accuracy: 0.8550 - val_loss: 0.4053 - val_accuracy: 0.8602\n",
      "Epoch 5/40\n",
      "1719/1719 [==============================] - 5s 3ms/step - loss: 0.3961 - accuracy: 0.8611 - val_loss: 0.3965 - val_accuracy: 0.8666\n",
      "Epoch 6/40\n",
      "1719/1719 [==============================] - 5s 3ms/step - loss: 0.3783 - accuracy: 0.8679 - val_loss: 0.3758 - val_accuracy: 0.8690\n",
      "Epoch 7/40\n",
      "1719/1719 [==============================] - 5s 3ms/step - loss: 0.3650 - accuracy: 0.8725 - val_loss: 0.3751 - val_accuracy: 0.8698\n",
      "Epoch 8/40\n",
      "1719/1719 [==============================] - 5s 3ms/step - loss: 0.3526 - accuracy: 0.8748 - val_loss: 0.3630 - val_accuracy: 0.8764\n",
      "Epoch 9/40\n",
      "1719/1719 [==============================] - 5s 3ms/step - loss: 0.3429 - accuracy: 0.8789 - val_loss: 0.3524 - val_accuracy: 0.8796\n",
      "Epoch 10/40\n",
      "1719/1719 [==============================] - 5s 3ms/step - loss: 0.3331 - accuracy: 0.8813 - val_loss: 0.3395 - val_accuracy: 0.8820\n",
      "Epoch 11/40\n",
      "1719/1719 [==============================] - 5s 3ms/step - loss: 0.3248 - accuracy: 0.8838 - val_loss: 0.3595 - val_accuracy: 0.8716\n",
      "Epoch 12/40\n",
      "1719/1719 [==============================] - 5s 3ms/step - loss: 0.3166 - accuracy: 0.8878 - val_loss: 0.3366 - val_accuracy: 0.8796\n",
      "Epoch 13/40\n",
      "1719/1719 [==============================] - 5s 3ms/step - loss: 0.3094 - accuracy: 0.8895 - val_loss: 0.3334 - val_accuracy: 0.8828\n",
      "Epoch 14/40\n",
      "1719/1719 [==============================] - 5s 3ms/step - loss: 0.3023 - accuracy: 0.8919 - val_loss: 0.3254 - val_accuracy: 0.8852\n",
      "Epoch 15/40\n",
      "1719/1719 [==============================] - 5s 3ms/step - loss: 0.2961 - accuracy: 0.8941 - val_loss: 0.3237 - val_accuracy: 0.8854\n",
      "Epoch 16/40\n",
      "1719/1719 [==============================] - 5s 3ms/step - loss: 0.2895 - accuracy: 0.8954 - val_loss: 0.3292 - val_accuracy: 0.8842\n",
      "Epoch 17/40\n",
      "1719/1719 [==============================] - 5s 3ms/step - loss: 0.2841 - accuracy: 0.8977 - val_loss: 0.3123 - val_accuracy: 0.8878\n",
      "Epoch 18/40\n",
      "1719/1719 [==============================] - 5s 3ms/step - loss: 0.2779 - accuracy: 0.9004 - val_loss: 0.3164 - val_accuracy: 0.8872\n",
      "Epoch 19/40\n",
      "1719/1719 [==============================] - 5s 3ms/step - loss: 0.2741 - accuracy: 0.9006 - val_loss: 0.3072 - val_accuracy: 0.8924\n",
      "Epoch 20/40\n",
      "1719/1719 [==============================] - 5s 3ms/step - loss: 0.2679 - accuracy: 0.9040 - val_loss: 0.3131 - val_accuracy: 0.8854\n",
      "Epoch 21/40\n",
      "1719/1719 [==============================] - 5s 3ms/step - loss: 0.2628 - accuracy: 0.9045 - val_loss: 0.3096 - val_accuracy: 0.8884\n",
      "Epoch 22/40\n",
      "1719/1719 [==============================] - 5s 3ms/step - loss: 0.2581 - accuracy: 0.9075 - val_loss: 0.3055 - val_accuracy: 0.8918\n",
      "Epoch 23/40\n",
      "1719/1719 [==============================] - 5s 3ms/step - loss: 0.2537 - accuracy: 0.9079 - val_loss: 0.2989 - val_accuracy: 0.8948\n",
      "Epoch 24/40\n",
      "1719/1719 [==============================] - 5s 3ms/step - loss: 0.2484 - accuracy: 0.9098 - val_loss: 0.3103 - val_accuracy: 0.8846\n",
      "Epoch 25/40\n",
      "1719/1719 [==============================] - 5s 3ms/step - loss: 0.2444 - accuracy: 0.9111 - val_loss: 0.3024 - val_accuracy: 0.8916\n",
      "Epoch 26/40\n",
      "1719/1719 [==============================] - 5s 3ms/step - loss: 0.2411 - accuracy: 0.9132 - val_loss: 0.3026 - val_accuracy: 0.8906\n",
      "Epoch 27/40\n",
      "1719/1719 [==============================] - 5s 3ms/step - loss: 0.2374 - accuracy: 0.9141 - val_loss: 0.3106 - val_accuracy: 0.8914\n",
      "Epoch 28/40\n",
      "1719/1719 [==============================] - 5s 3ms/step - loss: 0.2340 - accuracy: 0.9155 - val_loss: 0.2959 - val_accuracy: 0.8958\n",
      "Epoch 29/40\n",
      "1719/1719 [==============================] - 5s 3ms/step - loss: 0.2292 - accuracy: 0.9173 - val_loss: 0.3266 - val_accuracy: 0.8850\n",
      "Epoch 30/40\n",
      "1719/1719 [==============================] - 5s 3ms/step - loss: 0.2254 - accuracy: 0.9186 - val_loss: 0.3000 - val_accuracy: 0.8956\n",
      "Epoch 31/40\n",
      "1719/1719 [==============================] - 5s 3ms/step - loss: 0.2215 - accuracy: 0.9196 - val_loss: 0.3139 - val_accuracy: 0.8868\n",
      "Epoch 32/40\n",
      "1719/1719 [==============================] - 5s 3ms/step - loss: 0.2189 - accuracy: 0.9206 - val_loss: 0.3178 - val_accuracy: 0.8930\n",
      "Epoch 33/40\n",
      "1719/1719 [==============================] - 5s 3ms/step - loss: 0.2165 - accuracy: 0.9212 - val_loss: 0.3003 - val_accuracy: 0.8958\n",
      "Epoch 34/40\n",
      "1719/1719 [==============================] - 5s 3ms/step - loss: 0.2122 - accuracy: 0.9244 - val_loss: 0.2950 - val_accuracy: 0.8942\n",
      "Epoch 35/40\n",
      "1719/1719 [==============================] - 5s 3ms/step - loss: 0.2083 - accuracy: 0.9253 - val_loss: 0.2996 - val_accuracy: 0.8932\n",
      "Epoch 36/40\n",
      "1719/1719 [==============================] - 5s 3ms/step - loss: 0.2053 - accuracy: 0.9268 - val_loss: 0.2948 - val_accuracy: 0.8942\n",
      "Epoch 37/40\n",
      "1719/1719 [==============================] - 5s 3ms/step - loss: 0.2018 - accuracy: 0.9272 - val_loss: 0.2952 - val_accuracy: 0.8966\n",
      "Epoch 38/40\n",
      "1719/1719 [==============================] - 4s 3ms/step - loss: 0.1989 - accuracy: 0.9282 - val_loss: 0.3305 - val_accuracy: 0.8810\n",
      "Epoch 39/40\n",
      "1719/1719 [==============================] - 5s 3ms/step - loss: 0.1965 - accuracy: 0.9294 - val_loss: 0.2886 - val_accuracy: 0.8944\n",
      "Epoch 40/40\n",
      "1719/1719 [==============================] - 5s 3ms/step - loss: 0.1928 - accuracy: 0.9303 - val_loss: 0.3022 - val_accuracy: 0.8952\n"
     ]
    }
   ],
   "source": [
    "model_history = model.fit(X_train, y_train, epochs=40, validation_data=(X_valid, y_valid))"
   ]
  },
  {
   "cell_type": "code",
   "execution_count": 9,
   "id": "7c6579fe",
   "metadata": {
    "execution": {
     "iopub.execute_input": "2024-01-17T17:07:18.742288Z",
     "iopub.status.busy": "2024-01-17T17:07:18.741910Z",
     "iopub.status.idle": "2024-01-17T17:07:19.276745Z",
     "shell.execute_reply": "2024-01-17T17:07:19.275807Z"
    },
    "papermill": {
     "duration": 0.849623,
     "end_time": "2024-01-17T17:07:19.279339",
     "exception": false,
     "start_time": "2024-01-17T17:07:18.429716",
     "status": "completed"
    },
    "tags": []
   },
   "outputs": [
    {
     "data": {
      "image/png": "[encoded data removed]",
      "text/plain": [
       "<Figure size 800x500 with 1 Axes>"
      ]
     },
     "metadata": {},
     "output_type": "display_data"
    }
   ],
   "source": [
    "pd.DataFrame(model_history.history).plot(figsize=(8, 5))\n",
    "plt.gca().set_ylim(0, 1) \n",
    "plt.show()"
   ]
  }
 ],
 "metadata": {
  "kaggle": {
   "accelerator": "gpu",
   "dataSources": [],
   "dockerImageVersionId": 30636,
   "isGpuEnabled": true,
   "isInternetEnabled": true,
   "language": "python",
   "sourceType": "notebook"
  },
  "kernelspec": {
   "display_name": "Python 3",
   "language": "python",
   "name": "python3"
  },
  "language_info": {
   "codemirror_mode": {
    "name": "ipython",
    "version": 3
   },
   "file_extension": ".py",
   "mimetype": "text/x-python",
   "name": "python",
   "nbconvert_exporter": "python",
   "pygments_lexer": "ipython3",
   "version": "3.10.12"
  },
  "papermill": {
   "default_parameters": {},
   "duration": 241.556051,
   "end_time": "2024-01-17T17:07:21.593152",
   "environment_variables": {},
   "exception": null,
   "input_path": "__notebook__.ipynb",
   "output_path": "__notebook__.ipynb",
   "parameters": {},
   "start_time": "2024-01-17T17:03:20.037101",
   "version": "2.4.0"
  }
 },
 "nbformat": 4,
 "nbformat_minor": 5
}
