{
 "cells": [
  {
   "cell_type": "markdown",
   "id": "d3f6250e",
   "metadata": {
    "_cell_guid": "b1076dfc-b9ad-4769-8c92-a6c4dae69d19",
    "_uuid": "8f2839f25d086af736a60e9eeb907d3b93b6e0e5",
    "papermill": {
     "duration": 0.004307,
     "end_time": "2024-01-30T07:38:49.366772",
     "exception": false,
     "start_time": "2024-01-30T07:38:49.362465",
     "status": "completed"
    },
    "tags": []
   },
   "source": [
    "# Implementing a Simple RNN in Keras"
   ]
  },
  {
   "cell_type": "markdown",
   "id": "39184a5c",
   "metadata": {
    "papermill": {
     "duration": 0.003379,
     "end_time": "2024-01-30T07:38:49.374028",
     "exception": false,
     "start_time": "2024-01-30T07:38:49.370649",
     "status": "completed"
    },
    "tags": []
   },
   "source": [
    "### Notebook Imports"
   ]
  },
  {
   "cell_type": "code",
   "execution_count": 1,
   "id": "13833486",
   "metadata": {
    "execution": {
     "iopub.execute_input": "2024-01-30T07:38:49.382779Z",
     "iopub.status.busy": "2024-01-30T07:38:49.382424Z",
     "iopub.status.idle": "2024-01-30T07:39:02.871926Z",
     "shell.execute_reply": "2024-01-30T07:39:02.871135Z"
    },
    "papermill": {
     "duration": 13.496716,
     "end_time": "2024-01-30T07:39:02.874448",
     "exception": false,
     "start_time": "2024-01-30T07:38:49.377732",
     "status": "completed"
    },
    "tags": []
   },
   "outputs": [
    {
     "name": "stderr",
     "output_type": "stream",
     "text": [
      "2024-01-30 07:38:51.169466: E external/local_xla/xla/stream_executor/cuda/cuda_dnn.cc:9261] Unable to register cuDNN factory: Attempting to register factory for plugin cuDNN when one has already been registered\n",
      "2024-01-30 07:38:51.169604: E external/local_xla/xla/stream_executor/cuda/cuda_fft.cc:607] Unable to register cuFFT factory: Attempting to register factory for plugin cuFFT when one has already been registered\n",
      "2024-01-30 07:38:51.307644: E external/local_xla/xla/stream_executor/cuda/cuda_blas.cc:1515] Unable to register cuBLAS factory: Attempting to register factory for plugin cuBLAS when one has already been registered\n"
     ]
    }
   ],
   "source": [
    "import tensorflow as tf\n",
    "from tensorflow import keras\n",
    "\n",
    "from keras.datasets import imdb\n",
    "from keras.preprocessing import sequence\n",
    "from keras.utils import pad_sequences\n",
    "from keras import layers\n",
    "\n",
    "import matplotlib.pyplot as plt "
   ]
  },
  {
   "cell_type": "markdown",
   "id": "21422fed",
   "metadata": {
    "papermill": {
     "duration": 0.003563,
     "end_time": "2024-01-30T07:39:02.882126",
     "exception": false,
     "start_time": "2024-01-30T07:39:02.878563",
     "status": "completed"
    },
    "tags": []
   },
   "source": [
    "### Constants"
   ]
  },
  {
   "cell_type": "code",
   "execution_count": 2,
   "id": "71ba700b",
   "metadata": {
    "execution": {
     "iopub.execute_input": "2024-01-30T07:39:02.891019Z",
     "iopub.status.busy": "2024-01-30T07:39:02.890460Z",
     "iopub.status.idle": "2024-01-30T07:39:02.894774Z",
     "shell.execute_reply": "2024-01-30T07:39:02.893903Z"
    },
    "papermill": {
     "duration": 0.010892,
     "end_time": "2024-01-30T07:39:02.896669",
     "exception": false,
     "start_time": "2024-01-30T07:39:02.885777",
     "status": "completed"
    },
    "tags": []
   },
   "outputs": [],
   "source": [
    "MAX_FEATURES = 10000\n",
    "MAX_LENGTH = 500"
   ]
  },
  {
   "cell_type": "markdown",
   "id": "674b2c88",
   "metadata": {
    "papermill": {
     "duration": 0.003418,
     "end_time": "2024-01-30T07:39:02.903738",
     "exception": false,
     "start_time": "2024-01-30T07:39:02.900320",
     "status": "completed"
    },
    "tags": []
   },
   "source": [
    "### Loading the Data"
   ]
  },
  {
   "cell_type": "code",
   "execution_count": 3,
   "id": "9b1a502d",
   "metadata": {
    "execution": {
     "iopub.execute_input": "2024-01-30T07:39:02.912235Z",
     "iopub.status.busy": "2024-01-30T07:39:02.911924Z",
     "iopub.status.idle": "2024-01-30T07:39:08.238055Z",
     "shell.execute_reply": "2024-01-30T07:39:08.237262Z"
    },
    "papermill": {
     "duration": 5.333166,
     "end_time": "2024-01-30T07:39:08.240639",
     "exception": false,
     "start_time": "2024-01-30T07:39:02.907473",
     "status": "completed"
    },
    "tags": []
   },
   "outputs": [
    {
     "name": "stdout",
     "output_type": "stream",
     "text": [
      "Downloading data from https://storage.googleapis.com/tensorflow/tf-keras-datasets/imdb.npz\n",
      "17464789/17464789 [==============================] - 0s 0us/step\n"
     ]
    }
   ],
   "source": [
    "(X_train, y_train), (X_test, y_test) = imdb.load_data(num_words=MAX_FEATURES)"
   ]
  },
  {
   "cell_type": "code",
   "execution_count": 4,
   "id": "f920b191",
   "metadata": {
    "execution": {
     "iopub.execute_input": "2024-01-30T07:39:08.251352Z",
     "iopub.status.busy": "2024-01-30T07:39:08.250699Z",
     "iopub.status.idle": "2024-01-30T07:39:09.500330Z",
     "shell.execute_reply": "2024-01-30T07:39:09.499042Z"
    },
    "papermill": {
     "duration": 1.257217,
     "end_time": "2024-01-30T07:39:09.502517",
     "exception": false,
     "start_time": "2024-01-30T07:39:08.245300",
     "status": "completed"
    },
    "tags": []
   },
   "outputs": [
    {
     "name": "stdout",
     "output_type": "stream",
     "text": [
      "shape of input training data: (25000, 500)\n",
      "shape of input test data: (25000, 500)\n"
     ]
    }
   ],
   "source": [
    "X_train = pad_sequences(X_train, maxlen=MAX_LENGTH)\n",
    "X_test = pad_sequences(X_test, maxlen=MAX_LENGTH)\n",
    "\n",
    "print('shape of input training data:', X_train.shape)\n",
    "print('shape of input test data:', X_test.shape)"
   ]
  },
  {
   "cell_type": "markdown",
   "id": "d67edbb3",
   "metadata": {
    "papermill": {
     "duration": 0.004555,
     "end_time": "2024-01-30T07:39:09.513248",
     "exception": false,
     "start_time": "2024-01-30T07:39:09.508693",
     "status": "completed"
    },
    "tags": []
   },
   "source": [
    "### Training the model with embedding and SimpleRNN layers"
   ]
  },
  {
   "cell_type": "code",
   "execution_count": 5,
   "id": "e756a5a0",
   "metadata": {
    "execution": {
     "iopub.execute_input": "2024-01-30T07:39:09.524454Z",
     "iopub.status.busy": "2024-01-30T07:39:09.523738Z",
     "iopub.status.idle": "2024-01-30T07:39:10.879210Z",
     "shell.execute_reply": "2024-01-30T07:39:10.878378Z"
    },
    "papermill": {
     "duration": 1.363373,
     "end_time": "2024-01-30T07:39:10.881501",
     "exception": false,
     "start_time": "2024-01-30T07:39:09.518128",
     "status": "completed"
    },
    "tags": []
   },
   "outputs": [],
   "source": [
    "network = keras.Sequential([\n",
    "    layers.Embedding(MAX_FEATURES, 32),\n",
    "    layers.SimpleRNN(32), \n",
    "    layers.Dense(1, activation='sigmoid')\n",
    "])\n",
    "\n",
    "network.compile(optimizer='rmsprop', metrics=['accuracy'], loss='binary_crossentropy')"
   ]
  },
  {
   "cell_type": "code",
   "execution_count": 6,
   "id": "cb205342",
   "metadata": {
    "execution": {
     "iopub.execute_input": "2024-01-30T07:39:10.891506Z",
     "iopub.status.busy": "2024-01-30T07:39:10.891186Z",
     "iopub.status.idle": "2024-01-30T07:49:42.146275Z",
     "shell.execute_reply": "2024-01-30T07:49:42.145364Z"
    },
    "papermill": {
     "duration": 631.262597,
     "end_time": "2024-01-30T07:49:42.148547",
     "exception": false,
     "start_time": "2024-01-30T07:39:10.885950",
     "status": "completed"
    },
    "tags": []
   },
   "outputs": [
    {
     "name": "stdout",
     "output_type": "stream",
     "text": [
      "Epoch 1/10\n"
     ]
    },
    {
     "name": "stderr",
     "output_type": "stream",
     "text": [
      "WARNING: All log messages before absl::InitializeLog() is called are written to STDERR\n",
      "I0000 00:00:1706600353.427675      69 device_compiler.h:186] Compiled cluster using XLA!  This line is logged at most once for the lifetime of the process.\n"
     ]
    },
    {
     "name": "stdout",
     "output_type": "stream",
     "text": [
      "157/157 [==============================] - 74s 455ms/step - loss: 0.5806 - accuracy: 0.6780 - val_loss: 0.4323 - val_accuracy: 0.8100\n",
      "Epoch 2/10\n",
      "157/157 [==============================] - 68s 434ms/step - loss: 0.3699 - accuracy: 0.8444 - val_loss: 0.4599 - val_accuracy: 0.7804\n",
      "Epoch 3/10\n",
      "157/157 [==============================] - 66s 423ms/step - loss: 0.2980 - accuracy: 0.8811 - val_loss: 0.4259 - val_accuracy: 0.8012\n",
      "Epoch 4/10\n",
      "157/157 [==============================] - 63s 400ms/step - loss: 0.2439 - accuracy: 0.9046 - val_loss: 0.4872 - val_accuracy: 0.7776\n",
      "Epoch 5/10\n",
      "157/157 [==============================] - 60s 383ms/step - loss: 0.1995 - accuracy: 0.9244 - val_loss: 0.4165 - val_accuracy: 0.8208\n",
      "Epoch 6/10\n",
      "157/157 [==============================] - 60s 382ms/step - loss: 0.1596 - accuracy: 0.9413 - val_loss: 0.4394 - val_accuracy: 0.8504\n",
      "Epoch 7/10\n",
      "157/157 [==============================] - 60s 384ms/step - loss: 0.1137 - accuracy: 0.9606 - val_loss: 0.4554 - val_accuracy: 0.8462\n",
      "Epoch 8/10\n",
      "157/157 [==============================] - 59s 378ms/step - loss: 0.0803 - accuracy: 0.9737 - val_loss: 0.5208 - val_accuracy: 0.8190\n",
      "Epoch 9/10\n",
      "157/157 [==============================] - 60s 385ms/step - loss: 0.0560 - accuracy: 0.9821 - val_loss: 0.5140 - val_accuracy: 0.8494\n",
      "Epoch 10/10\n",
      "157/157 [==============================] - 60s 381ms/step - loss: 0.0379 - accuracy: 0.9886 - val_loss: 0.6193 - val_accuracy: 0.8206\n"
     ]
    }
   ],
   "source": [
    "history = network.fit(X_train, y_train, epochs=10, batch_size=128, validation_split=0.2)"
   ]
  },
  {
   "cell_type": "markdown",
   "id": "0db27cd2",
   "metadata": {
    "papermill": {
     "duration": 0.127835,
     "end_time": "2024-01-30T07:49:42.404251",
     "exception": false,
     "start_time": "2024-01-30T07:49:42.276416",
     "status": "completed"
    },
    "tags": []
   },
   "source": [
    "### Displaying the Results"
   ]
  },
  {
   "cell_type": "code",
   "execution_count": 7,
   "id": "d5376030",
   "metadata": {
    "execution": {
     "iopub.execute_input": "2024-01-30T07:49:42.661298Z",
     "iopub.status.busy": "2024-01-30T07:49:42.660923Z",
     "iopub.status.idle": "2024-01-30T07:49:43.109971Z",
     "shell.execute_reply": "2024-01-30T07:49:43.109010Z"
    },
    "papermill": {
     "duration": 0.580915,
     "end_time": "2024-01-30T07:49:43.112138",
     "exception": false,
     "start_time": "2024-01-30T07:49:42.531223",
     "status": "completed"
    },
    "tags": []
   },
   "outputs": [
    {
     "data": {
      "text/plain": [
       "<matplotlib.legend.Legend at 0x7b57489bc4f0>"
      ]
     },
     "execution_count": 7,
     "metadata": {},
     "output_type": "execute_result"
    },
    {
     "data": {
      "image/png": "[encoded data removed]",
      "text/plain": [
       "<Figure size 1200x400 with 2 Axes>"
      ]
     },
     "metadata": {},
     "output_type": "display_data"
    }
   ],
   "source": [
    "acc = history.history['accuracy']\n",
    "val_acc = history.history['val_accuracy']\n",
    "loss = history.history['loss']\n",
    "val_loss = history.history['val_loss']\n",
    "\n",
    "fig, (ax1, ax2) = plt.subplots(1, 2, figsize=(12, 4))\n",
    "epochs = range(1, len(acc) + 1)\n",
    "ax1.plot(epochs, acc, 'o', label='Training Accuracy')\n",
    "ax1.plot(epochs, val_acc, label='Validation Accuracy')\n",
    "ax1.legend()\n",
    "\n",
    "ax2.plot(epochs, loss, 'o', label='Training Loss')\n",
    "ax2.plot(epochs, val_loss, label='Validation Loss')\n",
    "ax2.set_title('Training and Validation Loss')\n",
    "ax2.legend()"
   ]
  }
 ],
 "metadata": {
  "kaggle": {
   "accelerator": "gpu",
   "dataSources": [],
   "dockerImageVersionId": 30648,
   "isGpuEnabled": true,
   "isInternetEnabled": true,
   "language": "python",
   "sourceType": "notebook"
  },
  "kernelspec": {
   "display_name": "Python 3",
   "language": "python",
   "name": "python3"
  },
  "language_info": {
   "codemirror_mode": {
    "name": "ipython",
    "version": 3
   },
   "file_extension": ".py",
   "mimetype": "text/x-python",
   "name": "python",
   "nbconvert_exporter": "python",
   "pygments_lexer": "ipython3",
   "version": "3.10.13"
  },
  "papermill": {
   "default_parameters": {},
   "duration": 659.481694,
   "end_time": "2024-01-30T07:49:46.070388",
   "environment_variables": {},
   "exception": null,
   "input_path": "__notebook__.ipynb",
   "output_path": "__notebook__.ipynb",
   "parameters": {},
   "start_time": "2024-01-30T07:38:46.588694",
   "version": "2.5.0"
  }
 },
 "nbformat": 4,
 "nbformat_minor": 5
}
