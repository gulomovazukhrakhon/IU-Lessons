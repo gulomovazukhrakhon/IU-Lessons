{
 "cells": [
  {
   "cell_type": "markdown",
   "id": "143bffa8",
   "metadata": {
    "_cell_guid": "b1076dfc-b9ad-4769-8c92-a6c4dae69d19",
    "_uuid": "8f2839f25d086af736a60e9eeb907d3b93b6e0e5",
    "papermill": {
     "duration": 0.004535,
     "end_time": "2024-01-31T12:15:50.515760",
     "exception": false,
     "start_time": "2024-01-31T12:15:50.511225",
     "status": "completed"
    },
    "tags": []
   },
   "source": [
    "# Implementing the LSTM Layer in Keras"
   ]
  },
  {
   "cell_type": "markdown",
   "id": "3e15dd75",
   "metadata": {
    "papermill": {
     "duration": 0.003784,
     "end_time": "2024-01-31T12:15:50.523854",
     "exception": false,
     "start_time": "2024-01-31T12:15:50.520070",
     "status": "completed"
    },
    "tags": []
   },
   "source": [
    "### Notebook Imports"
   ]
  },
  {
   "cell_type": "code",
   "execution_count": 1,
   "id": "c9e32105",
   "metadata": {
    "execution": {
     "iopub.execute_input": "2024-01-31T12:15:50.532929Z",
     "iopub.status.busy": "2024-01-31T12:15:50.532642Z",
     "iopub.status.idle": "2024-01-31T12:16:03.682077Z",
     "shell.execute_reply": "2024-01-31T12:16:03.681236Z"
    },
    "papermill": {
     "duration": 13.15675,
     "end_time": "2024-01-31T12:16:03.684572",
     "exception": false,
     "start_time": "2024-01-31T12:15:50.527822",
     "status": "completed"
    },
    "tags": []
   },
   "outputs": [
    {
     "name": "stderr",
     "output_type": "stream",
     "text": [
      "2024-01-31 12:15:52.392181: E external/local_xla/xla/stream_executor/cuda/cuda_dnn.cc:9261] Unable to register cuDNN factory: Attempting to register factory for plugin cuDNN when one has already been registered\n",
      "2024-01-31 12:15:52.392279: E external/local_xla/xla/stream_executor/cuda/cuda_fft.cc:607] Unable to register cuFFT factory: Attempting to register factory for plugin cuFFT when one has already been registered\n",
      "2024-01-31 12:15:52.539672: E external/local_xla/xla/stream_executor/cuda/cuda_blas.cc:1515] Unable to register cuBLAS factory: Attempting to register factory for plugin cuBLAS when one has already been registered\n"
     ]
    }
   ],
   "source": [
    "import tensorflow as tf\n",
    "from tensorflow import keras\n",
    "\n",
    "from keras.datasets import imdb\n",
    "from keras.preprocessing import sequence\n",
    "from keras.utils import pad_sequences\n",
    "from keras import layers\n",
    "\n",
    "import matplotlib.pyplot as plt "
   ]
  },
  {
   "cell_type": "markdown",
   "id": "eefe3211",
   "metadata": {
    "papermill": {
     "duration": 0.003967,
     "end_time": "2024-01-31T12:16:03.693112",
     "exception": false,
     "start_time": "2024-01-31T12:16:03.689145",
     "status": "completed"
    },
    "tags": []
   },
   "source": [
    "### Constants"
   ]
  },
  {
   "cell_type": "code",
   "execution_count": 2,
   "id": "6aeab024",
   "metadata": {
    "execution": {
     "iopub.execute_input": "2024-01-31T12:16:03.703182Z",
     "iopub.status.busy": "2024-01-31T12:16:03.702190Z",
     "iopub.status.idle": "2024-01-31T12:16:03.706480Z",
     "shell.execute_reply": "2024-01-31T12:16:03.705650Z"
    },
    "papermill": {
     "duration": 0.01124,
     "end_time": "2024-01-31T12:16:03.708455",
     "exception": false,
     "start_time": "2024-01-31T12:16:03.697215",
     "status": "completed"
    },
    "tags": []
   },
   "outputs": [],
   "source": [
    "MAX_FEATURES = 10000\n",
    "MAX_LENGTH = 500"
   ]
  },
  {
   "cell_type": "markdown",
   "id": "a7580c06",
   "metadata": {
    "papermill": {
     "duration": 0.004122,
     "end_time": "2024-01-31T12:16:03.716755",
     "exception": false,
     "start_time": "2024-01-31T12:16:03.712633",
     "status": "completed"
    },
    "tags": []
   },
   "source": [
    "### Loading the Data"
   ]
  },
  {
   "cell_type": "code",
   "execution_count": 3,
   "id": "5a80087a",
   "metadata": {
    "execution": {
     "iopub.execute_input": "2024-01-31T12:16:03.726633Z",
     "iopub.status.busy": "2024-01-31T12:16:03.725938Z",
     "iopub.status.idle": "2024-01-31T12:16:09.540685Z",
     "shell.execute_reply": "2024-01-31T12:16:09.539868Z"
    },
    "papermill": {
     "duration": 5.822068,
     "end_time": "2024-01-31T12:16:09.542986",
     "exception": false,
     "start_time": "2024-01-31T12:16:03.720918",
     "status": "completed"
    },
    "tags": []
   },
   "outputs": [
    {
     "name": "stdout",
     "output_type": "stream",
     "text": [
      "Downloading data from https://storage.googleapis.com/tensorflow/tf-keras-datasets/imdb.npz\n",
      "17464789/17464789 [==============================] - 1s 0us/step\n"
     ]
    }
   ],
   "source": [
    "(X_train, y_train), (X_test, y_test) = imdb.load_data(num_words=MAX_FEATURES)"
   ]
  },
  {
   "cell_type": "code",
   "execution_count": 4,
   "id": "202cb8e8",
   "metadata": {
    "execution": {
     "iopub.execute_input": "2024-01-31T12:16:09.555231Z",
     "iopub.status.busy": "2024-01-31T12:16:09.554954Z",
     "iopub.status.idle": "2024-01-31T12:16:10.760904Z",
     "shell.execute_reply": "2024-01-31T12:16:10.759819Z"
    },
    "papermill": {
     "duration": 1.214637,
     "end_time": "2024-01-31T12:16:10.763186",
     "exception": false,
     "start_time": "2024-01-31T12:16:09.548549",
     "status": "completed"
    },
    "tags": []
   },
   "outputs": [
    {
     "name": "stdout",
     "output_type": "stream",
     "text": [
      "shape of input training data: (25000, 500)\n",
      "shape of input test data: (25000, 500)\n"
     ]
    }
   ],
   "source": [
    "X_train = pad_sequences(X_train, maxlen=MAX_LENGTH)\n",
    "X_test = pad_sequences(X_test, maxlen=MAX_LENGTH)\n",
    "\n",
    "print('shape of input training data:', X_train.shape)\n",
    "print('shape of input test data:', X_test.shape)"
   ]
  },
  {
   "cell_type": "markdown",
   "id": "552f81dc",
   "metadata": {
    "papermill": {
     "duration": 0.005054,
     "end_time": "2024-01-31T12:16:10.773504",
     "exception": false,
     "start_time": "2024-01-31T12:16:10.768450",
     "status": "completed"
    },
    "tags": []
   },
   "source": [
    "### Training the Model with Embedding and LSTM layers"
   ]
  },
  {
   "cell_type": "code",
   "execution_count": 5,
   "id": "5edc117e",
   "metadata": {
    "execution": {
     "iopub.execute_input": "2024-01-31T12:16:10.785744Z",
     "iopub.status.busy": "2024-01-31T12:16:10.785015Z",
     "iopub.status.idle": "2024-01-31T12:16:12.245828Z",
     "shell.execute_reply": "2024-01-31T12:16:12.245024Z"
    },
    "papermill": {
     "duration": 1.469284,
     "end_time": "2024-01-31T12:16:12.248139",
     "exception": false,
     "start_time": "2024-01-31T12:16:10.778855",
     "status": "completed"
    },
    "tags": []
   },
   "outputs": [],
   "source": [
    "network = keras.Sequential([\n",
    "    layers.Embedding(MAX_FEATURES, 32), \n",
    "    layers.LSTM(32),\n",
    "    layers.Dense(1, activation='sigmoid')\n",
    "])"
   ]
  },
  {
   "cell_type": "code",
   "execution_count": 6,
   "id": "a92a2bc3",
   "metadata": {
    "execution": {
     "iopub.execute_input": "2024-01-31T12:16:12.259987Z",
     "iopub.status.busy": "2024-01-31T12:16:12.259694Z",
     "iopub.status.idle": "2024-01-31T12:16:12.453395Z",
     "shell.execute_reply": "2024-01-31T12:16:12.452649Z"
    },
    "papermill": {
     "duration": 0.202599,
     "end_time": "2024-01-31T12:16:12.456137",
     "exception": false,
     "start_time": "2024-01-31T12:16:12.253538",
     "status": "completed"
    },
    "tags": []
   },
   "outputs": [],
   "source": [
    "network.compile(optimizer='rmsprop', metrics=['accuracy'], loss='binary_crossentropy')"
   ]
  },
  {
   "cell_type": "code",
   "execution_count": 7,
   "id": "bb4617c2",
   "metadata": {
    "execution": {
     "iopub.execute_input": "2024-01-31T12:16:12.468074Z",
     "iopub.status.busy": "2024-01-31T12:16:12.467777Z",
     "iopub.status.idle": "2024-01-31T12:17:48.053717Z",
     "shell.execute_reply": "2024-01-31T12:17:48.052593Z"
    },
    "papermill": {
     "duration": 95.594412,
     "end_time": "2024-01-31T12:17:48.055983",
     "exception": false,
     "start_time": "2024-01-31T12:16:12.461571",
     "status": "completed"
    },
    "tags": []
   },
   "outputs": [
    {
     "name": "stdout",
     "output_type": "stream",
     "text": [
      "Epoch 1/10\n"
     ]
    },
    {
     "name": "stderr",
     "output_type": "stream",
     "text": [
      "WARNING: All log messages before absl::InitializeLog() is called are written to STDERR\n",
      "I0000 00:00:1706703375.140646      68 device_compiler.h:186] Compiled cluster using XLA!  This line is logged at most once for the lifetime of the process.\n"
     ]
    },
    {
     "name": "stdout",
     "output_type": "stream",
     "text": [
      "157/157 [==============================] - 22s 120ms/step - loss: 0.5799 - accuracy: 0.6900 - val_loss: 0.4560 - val_accuracy: 0.8216\n",
      "Epoch 2/10\n",
      "157/157 [==============================] - 14s 92ms/step - loss: 0.3511 - accuracy: 0.8561 - val_loss: 0.3385 - val_accuracy: 0.8580\n",
      "Epoch 3/10\n",
      "157/157 [==============================] - 11s 70ms/step - loss: 0.2676 - accuracy: 0.8950 - val_loss: 0.3659 - val_accuracy: 0.8400\n",
      "Epoch 4/10\n",
      "157/157 [==============================] - 8s 52ms/step - loss: 0.2287 - accuracy: 0.9133 - val_loss: 0.2923 - val_accuracy: 0.8796\n",
      "Epoch 5/10\n",
      "157/157 [==============================] - 8s 52ms/step - loss: 0.1962 - accuracy: 0.9307 - val_loss: 0.2897 - val_accuracy: 0.8830\n",
      "Epoch 6/10\n",
      "157/157 [==============================] - 8s 50ms/step - loss: 0.1822 - accuracy: 0.9348 - val_loss: 0.3458 - val_accuracy: 0.8530\n",
      "Epoch 7/10\n",
      "157/157 [==============================] - 6s 41ms/step - loss: 0.1575 - accuracy: 0.9433 - val_loss: 0.4415 - val_accuracy: 0.8536\n",
      "Epoch 8/10\n",
      "157/157 [==============================] - 6s 37ms/step - loss: 0.1432 - accuracy: 0.9485 - val_loss: 0.3237 - val_accuracy: 0.8816\n",
      "Epoch 9/10\n",
      "157/157 [==============================] - 6s 37ms/step - loss: 0.1342 - accuracy: 0.9536 - val_loss: 0.4391 - val_accuracy: 0.8730\n",
      "Epoch 10/10\n",
      "157/157 [==============================] - 6s 39ms/step - loss: 0.1194 - accuracy: 0.9578 - val_loss: 0.3407 - val_accuracy: 0.8822\n"
     ]
    }
   ],
   "source": [
    "history = network.fit(X_train, y_train, epochs=10, batch_size=128, validation_split=0.2)"
   ]
  },
  {
   "cell_type": "markdown",
   "id": "17957bf4",
   "metadata": {
    "papermill": {
     "duration": 0.067521,
     "end_time": "2024-01-31T12:17:48.192885",
     "exception": false,
     "start_time": "2024-01-31T12:17:48.125364",
     "status": "completed"
    },
    "tags": []
   },
   "source": [
    "### Displaying the Results"
   ]
  },
  {
   "cell_type": "code",
   "execution_count": 8,
   "id": "3e8d25b4",
   "metadata": {
    "execution": {
     "iopub.execute_input": "2024-01-31T12:17:48.328569Z",
     "iopub.status.busy": "2024-01-31T12:17:48.327779Z",
     "iopub.status.idle": "2024-01-31T12:17:48.332651Z",
     "shell.execute_reply": "2024-01-31T12:17:48.331775Z"
    },
    "papermill": {
     "duration": 0.075219,
     "end_time": "2024-01-31T12:17:48.334673",
     "exception": false,
     "start_time": "2024-01-31T12:17:48.259454",
     "status": "completed"
    },
    "tags": []
   },
   "outputs": [],
   "source": [
    "acc = history.history['accuracy']\n",
    "val_acc = history.history['val_accuracy']\n",
    "loss = history.history['loss']\n",
    "val_loss = history.history['val_loss']"
   ]
  },
  {
   "cell_type": "code",
   "execution_count": 9,
   "id": "a3439e8a",
   "metadata": {
    "execution": {
     "iopub.execute_input": "2024-01-31T12:17:48.470638Z",
     "iopub.status.busy": "2024-01-31T12:17:48.470309Z",
     "iopub.status.idle": "2024-01-31T12:17:48.905157Z",
     "shell.execute_reply": "2024-01-31T12:17:48.904248Z"
    },
    "papermill": {
     "duration": 0.504655,
     "end_time": "2024-01-31T12:17:48.907376",
     "exception": false,
     "start_time": "2024-01-31T12:17:48.402721",
     "status": "completed"
    },
    "tags": []
   },
   "outputs": [
    {
     "data": {
      "text/plain": [
       "<matplotlib.legend.Legend at 0x7bc40e7e3e50>"
      ]
     },
     "execution_count": 9,
     "metadata": {},
     "output_type": "execute_result"
    },
    {
     "data": {
      "image/png": "[encoded data removed]",
      "text/plain": [
       "<Figure size 1200x400 with 2 Axes>"
      ]
     },
     "metadata": {},
     "output_type": "display_data"
    }
   ],
   "source": [
    "fig, (ax1, ax2) = plt.subplots(1, 2, figsize=(12, 4))\n",
    "epochs = range(1, len(acc) + 1)\n",
    "ax1.plot(epochs, acc, 'o', label='Training Accuracy')\n",
    "ax1.plot(epochs, val_acc, label='Validation Accuracy')\n",
    "ax1.legend()\n",
    "\n",
    "ax2.plot(epochs, loss, 'o', label='Training Loss')\n",
    "ax2.plot(epochs, val_loss, label='Validation Loss')\n",
    "ax2.set_title('Training and Validation Loss')\n",
    "ax2.legend()"
   ]
  }
 ],
 "metadata": {
  "kaggle": {
   "accelerator": "gpu",
   "dataSources": [],
   "dockerImageVersionId": 30648,
   "isGpuEnabled": true,
   "isInternetEnabled": true,
   "language": "python",
   "sourceType": "notebook"
  },
  "kernelspec": {
   "display_name": "Python 3",
   "language": "python",
   "name": "python3"
  },
  "language_info": {
   "codemirror_mode": {
    "name": "ipython",
    "version": 3
   },
   "file_extension": ".py",
   "mimetype": "text/x-python",
   "name": "python",
   "nbconvert_exporter": "python",
   "pygments_lexer": "ipython3",
   "version": "3.10.13"
  },
  "papermill": {
   "default_parameters": {},
   "duration": 123.021131,
   "end_time": "2024-01-31T12:17:50.799127",
   "environment_variables": {},
   "exception": null,
   "input_path": "__notebook__.ipynb",
   "output_path": "__notebook__.ipynb",
   "parameters": {},
   "start_time": "2024-01-31T12:15:47.777996",
   "version": "2.5.0"
  }
 },
 "nbformat": 4,
 "nbformat_minor": 5
}
