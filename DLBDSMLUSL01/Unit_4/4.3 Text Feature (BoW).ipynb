{
 "cells": [
  {
   "cell_type": "markdown",
   "id": "16e035da",
   "metadata": {},
   "source": [
    "# Notebook Imports"
   ]
  },
  {
   "cell_type": "code",
   "execution_count": 22,
   "id": "61856b2c",
   "metadata": {},
   "outputs": [],
   "source": [
    "from sklearn.feature_extraction.text import CountVectorizer\n",
    "from sklearn.feature_extraction.text import TfidfVectorizer"
   ]
  },
  {
   "cell_type": "markdown",
   "id": "3deebc23",
   "metadata": {},
   "source": [
    "## Generate Sample Data"
   ]
  },
  {
   "cell_type": "code",
   "execution_count": 15,
   "id": "4a2ef4aa",
   "metadata": {},
   "outputs": [],
   "source": [
    "corpus = ['Martin is not a bad person.',\n",
    "         'Kevin, is the brother o Martin.' ,\n",
    "         'Kevin is a bad person']"
   ]
  },
  {
   "cell_type": "markdown",
   "id": "853ea7a7",
   "metadata": {},
   "source": [
    "# Bag-of-Words"
   ]
  },
  {
   "cell_type": "code",
   "execution_count": 16,
   "id": "fe4a8bb7",
   "metadata": {},
   "outputs": [
    {
     "data": {
      "text/plain": [
       "array(['Kevin', 'Martin', 'bad', 'brother', 'person'], dtype=object)"
      ]
     },
     "execution_count": 16,
     "metadata": {},
     "output_type": "execute_result"
    }
   ],
   "source": [
    "vectorizer = CountVectorizer(lowercase=False, stop_words='english')\n",
    "\n",
    "BoW = vectorizer.fit_transform(corpus)\n",
    "vectorizer.get_feature_names_out()"
   ]
  },
  {
   "cell_type": "code",
   "execution_count": 17,
   "id": "c7bbf9b8",
   "metadata": {},
   "outputs": [
    {
     "data": {
      "text/plain": [
       "array([[0, 1, 1, 0, 1],\n",
       "       [1, 1, 0, 1, 0],\n",
       "       [1, 0, 1, 0, 1]], dtype=int64)"
      ]
     },
     "execution_count": 17,
     "metadata": {},
     "output_type": "execute_result"
    }
   ],
   "source": [
    "BoW.toarray()"
   ]
  },
  {
   "cell_type": "markdown",
   "id": "41477b30",
   "metadata": {},
   "source": [
    "# Bag-of-N-Grams"
   ]
  },
  {
   "cell_type": "code",
   "execution_count": 19,
   "id": "23f483ad",
   "metadata": {},
   "outputs": [
    {
     "data": {
      "text/plain": [
       "array(['Kevin bad', 'Kevin brother', 'Martin bad', 'bad person',\n",
       "       'brother Martin'], dtype=object)"
      ]
     },
     "execution_count": 19,
     "metadata": {},
     "output_type": "execute_result"
    }
   ],
   "source": [
    "vectorizer2 = CountVectorizer(analyzer='word', ngram_range=(2, 2), lowercase=False, stop_words='english')\n",
    " \n",
    "# fit the vectorizer\n",
    "Bo2G = vectorizer2.fit_transform(corpus)\n",
    "vectorizer2.get_feature_names_out()"
   ]
  },
  {
   "cell_type": "code",
   "execution_count": 20,
   "id": "05b80845",
   "metadata": {},
   "outputs": [
    {
     "data": {
      "text/plain": [
       "array([[0, 0, 1, 1, 0],\n",
       "       [0, 1, 0, 0, 1],\n",
       "       [1, 0, 0, 1, 0]], dtype=int64)"
      ]
     },
     "execution_count": 20,
     "metadata": {},
     "output_type": "execute_result"
    }
   ],
   "source": [
    "Bo2G.toarray()"
   ]
  },
  {
   "cell_type": "markdown",
   "id": "63305fdd",
   "metadata": {},
   "source": [
    "# TF-IDF"
   ]
  },
  {
   "cell_type": "code",
   "execution_count": 28,
   "id": "23da4831",
   "metadata": {},
   "outputs": [
    {
     "data": {
      "text/plain": [
       "array(['Kevin', 'Martin', 'bad', 'brother', 'person'], dtype=object)"
      ]
     },
     "execution_count": 28,
     "metadata": {},
     "output_type": "execute_result"
    }
   ],
   "source": [
    "TFIDF = TfidfVectorizer(lowercase=False, norm='l2', stop_words='english')\n",
    "\n",
    "TFIDF_text = TFIDF.fit_transform(corpus)\n",
    "TFIDF.get_feature_names_out()"
   ]
  },
  {
   "cell_type": "code",
   "execution_count": 29,
   "id": "c4f6ece6",
   "metadata": {},
   "outputs": [
    {
     "name": "stdout",
     "output_type": "stream",
     "text": [
      "  (0, 4)\t0.5773502691896257\n",
      "  (0, 2)\t0.5773502691896257\n",
      "  (0, 1)\t0.5773502691896257\n",
      "  (1, 3)\t0.680918560398684\n",
      "  (1, 0)\t0.5178561161676974\n",
      "  (1, 1)\t0.5178561161676974\n",
      "  (2, 0)\t0.5773502691896257\n",
      "  (2, 4)\t0.5773502691896257\n",
      "  (2, 2)\t0.5773502691896257\n"
     ]
    }
   ],
   "source": [
    "print(TFIDF_text)"
   ]
  }
 ],
 "metadata": {
  "kernelspec": {
   "display_name": "Python 3 (ipykernel)",
   "language": "python",
   "name": "python3"
  },
  "language_info": {
   "codemirror_mode": {
    "name": "ipython",
    "version": 3
   },
   "file_extension": ".py",
   "mimetype": "text/x-python",
   "name": "python",
   "nbconvert_exporter": "python",
   "pygments_lexer": "ipython3",
   "version": "3.11.3"
  }
 },
 "nbformat": 4,
 "nbformat_minor": 5
}
