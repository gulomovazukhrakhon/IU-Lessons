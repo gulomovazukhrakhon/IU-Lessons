{
 "cells": [
  {
   "cell_type": "markdown",
   "id": "5cba81f4",
   "metadata": {},
   "source": [
    "# Notebook Imports"
   ]
  },
  {
   "cell_type": "code",
   "execution_count": 24,
   "id": "ab6ee1c5",
   "metadata": {},
   "outputs": [],
   "source": [
    "import pandas as pd\n",
    "from sklearn.preprocessing import PolynomialFeatures\n",
    "from sklearn.preprocessing import LabelEncoder"
   ]
  },
  {
   "cell_type": "markdown",
   "id": "fc869aa2",
   "metadata": {},
   "source": [
    "## Generate Sample Data"
   ]
  },
  {
   "cell_type": "code",
   "execution_count": 25,
   "id": "d03b841f",
   "metadata": {},
   "outputs": [
    {
     "data": {
      "text/html": [
       "<div>\n",
       "<style scoped>\n",
       "    .dataframe tbody tr th:only-of-type {\n",
       "        vertical-align: middle;\n",
       "    }\n",
       "\n",
       "    .dataframe tbody tr th {\n",
       "        vertical-align: top;\n",
       "    }\n",
       "\n",
       "    .dataframe thead th {\n",
       "        text-align: right;\n",
       "    }\n",
       "</style>\n",
       "<table border=\"1\" class=\"dataframe\">\n",
       "  <thead>\n",
       "    <tr style=\"text-align: right;\">\n",
       "      <th></th>\n",
       "      <th>Customer-ID</th>\n",
       "      <th>Gender</th>\n",
       "      <th>Work-type</th>\n",
       "      <th>Client-satisfaction</th>\n",
       "      <th>Number-occupants</th>\n",
       "      <th>Consumption</th>\n",
       "    </tr>\n",
       "  </thead>\n",
       "  <tbody>\n",
       "    <tr>\n",
       "      <th>0</th>\n",
       "      <td>1</td>\n",
       "      <td>M</td>\n",
       "      <td>1</td>\n",
       "      <td>3</td>\n",
       "      <td>2</td>\n",
       "      <td>70</td>\n",
       "    </tr>\n",
       "    <tr>\n",
       "      <th>1</th>\n",
       "      <td>2</td>\n",
       "      <td>&lt;NA&gt;</td>\n",
       "      <td>2</td>\n",
       "      <td>0</td>\n",
       "      <td>4</td>\n",
       "      <td>140</td>\n",
       "    </tr>\n",
       "    <tr>\n",
       "      <th>2</th>\n",
       "      <td>3</td>\n",
       "      <td>M</td>\n",
       "      <td>2</td>\n",
       "      <td>4</td>\n",
       "      <td>2</td>\n",
       "      <td>65</td>\n",
       "    </tr>\n",
       "    <tr>\n",
       "      <th>3</th>\n",
       "      <td>4</td>\n",
       "      <td>F</td>\n",
       "      <td>3</td>\n",
       "      <td>3</td>\n",
       "      <td>1</td>\n",
       "      <td>40</td>\n",
       "    </tr>\n",
       "    <tr>\n",
       "      <th>4</th>\n",
       "      <td>5</td>\n",
       "      <td>F</td>\n",
       "      <td>3</td>\n",
       "      <td>5</td>\n",
       "      <td>2</td>\n",
       "      <td>65</td>\n",
       "    </tr>\n",
       "  </tbody>\n",
       "</table>\n",
       "</div>"
      ],
      "text/plain": [
       "   Customer-ID Gender  Work-type  Client-satisfaction  Number-occupants  \\\n",
       "0            1      M          1                    3                 2   \n",
       "1            2   <NA>          2                    0                 4   \n",
       "2            3      M          2                    4                 2   \n",
       "3            4      F          3                    3                 1   \n",
       "4            5      F          3                    5                 2   \n",
       "\n",
       "   Consumption  \n",
       "0           70  \n",
       "1          140  \n",
       "2           65  \n",
       "3           40  \n",
       "4           65  "
      ]
     },
     "execution_count": 25,
     "metadata": {},
     "output_type": "execute_result"
    }
   ],
   "source": [
    "table = {\n",
    "   'Customer-ID': [1, 2, 3, 4, 5],\n",
    "   'Gender':['M', pd.NA, 'M', 'F', 'F'],\n",
    "   'Work-type': [1, 2, 2, 3, 3],\n",
    "   'Client-satisfaction':[3, 0, 4, 3, 5],\n",
    "   'Number-occupants': [2, 4, 2, 1, 2],\n",
    "   'Consumption': [70, 140, 65, 40, 65]\n",
    "}\n",
    "\n",
    "TDF = pd.DataFrame(data=table)\n",
    "\n",
    "TDF"
   ]
  },
  {
   "cell_type": "markdown",
   "id": "4e4184ae",
   "metadata": {},
   "source": [
    "## Feature Cleaning"
   ]
  },
  {
   "cell_type": "code",
   "execution_count": 26,
   "id": "5da6db52",
   "metadata": {},
   "outputs": [
    {
     "data": {
      "text/plain": [
       "Customer-ID            0\n",
       "Gender                 1\n",
       "Work-type              0\n",
       "Client-satisfaction    0\n",
       "Number-occupants       0\n",
       "Consumption            0\n",
       "dtype: int64"
      ]
     },
     "execution_count": 26,
     "metadata": {},
     "output_type": "execute_result"
    }
   ],
   "source": [
    "TDF.isnull().sum()"
   ]
  },
  {
   "cell_type": "code",
   "execution_count": 27,
   "id": "d1963e03",
   "metadata": {},
   "outputs": [
    {
     "data": {
      "text/plain": [
       "Customer-ID            0\n",
       "Gender                 0\n",
       "Work-type              0\n",
       "Client-satisfaction    0\n",
       "Number-occupants       0\n",
       "Consumption            0\n",
       "dtype: int64"
      ]
     },
     "execution_count": 27,
     "metadata": {},
     "output_type": "execute_result"
    }
   ],
   "source": [
    "TDF = TDF.fillna(TDF['Gender'].value_counts().index[0])\n",
    "TDF.isnull().sum()"
   ]
  },
  {
   "cell_type": "markdown",
   "id": "d26ba227",
   "metadata": {},
   "source": [
    "## Feature Encoding"
   ]
  },
  {
   "cell_type": "code",
   "execution_count": 28,
   "id": "dc7cebf4",
   "metadata": {},
   "outputs": [
    {
     "data": {
      "text/plain": [
       "Customer-ID             int64\n",
       "Gender                 object\n",
       "Work-type               int64\n",
       "Client-satisfaction     int64\n",
       "Number-occupants        int64\n",
       "Consumption             int64\n",
       "dtype: object"
      ]
     },
     "execution_count": 28,
     "metadata": {},
     "output_type": "execute_result"
    }
   ],
   "source": [
    "TDF.dtypes"
   ]
  },
  {
   "cell_type": "code",
   "execution_count": 29,
   "id": "50045856",
   "metadata": {},
   "outputs": [
    {
     "data": {
      "text/plain": [
       "Customer-ID             int64\n",
       "Gender                 object\n",
       "Work-type              object\n",
       "Client-satisfaction    object\n",
       "Number-occupants        int64\n",
       "Consumption             int64\n",
       "dtype: object"
      ]
     },
     "execution_count": 29,
     "metadata": {},
     "output_type": "execute_result"
    }
   ],
   "source": [
    "TDF['Work-type'] = TDF['Work-type'].astype(str)\n",
    "TDF['Client-satisfaction'] = TDF['Client-satisfaction'].astype(str)\n",
    "\n",
    "TDF.dtypes"
   ]
  },
  {
   "cell_type": "code",
   "execution_count": 30,
   "id": "9bb2a326",
   "metadata": {},
   "outputs": [
    {
     "data": {
      "text/plain": [
       "['Customer-ID',\n",
       " 'Number-occupants',\n",
       " 'Consumption',\n",
       " 'Gender_F',\n",
       " 'Gender_M',\n",
       " 'Work-type_1',\n",
       " 'Work-type_2',\n",
       " 'Work-type_3',\n",
       " 'Client-satisfaction_0',\n",
       " 'Client-satisfaction_3',\n",
       " 'Client-satisfaction_4',\n",
       " 'Client-satisfaction_5']"
      ]
     },
     "execution_count": 30,
     "metadata": {},
     "output_type": "execute_result"
    }
   ],
   "source": [
    "TDF_1hot = pd.get_dummies(TDF)\n",
    "list(TDF_1hot.columns)"
   ]
  }
 ],
 "metadata": {
  "kernelspec": {
   "display_name": "Python 3 (ipykernel)",
   "language": "python",
   "name": "python3"
  },
  "language_info": {
   "codemirror_mode": {
    "name": "ipython",
    "version": 3
   },
   "file_extension": ".py",
   "mimetype": "text/x-python",
   "name": "python",
   "nbconvert_exporter": "python",
   "pygments_lexer": "ipython3",
   "version": "3.11.3"
  }
 },
 "nbformat": 4,
 "nbformat_minor": 5
}
