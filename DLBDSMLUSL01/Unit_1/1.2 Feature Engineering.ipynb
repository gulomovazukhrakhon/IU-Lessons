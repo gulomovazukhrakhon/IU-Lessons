{
 "cells": [
  {
   "cell_type": "markdown",
   "id": "315bc252",
   "metadata": {},
   "source": [
    "# Notebook Imports"
   ]
  },
  {
   "cell_type": "code",
   "execution_count": 1,
   "id": "53f2f828",
   "metadata": {},
   "outputs": [],
   "source": [
    "import numpy as np\n",
    "import pandas as pd\n",
    "import datetime"
   ]
  },
  {
   "cell_type": "markdown",
   "id": "f790b776",
   "metadata": {},
   "source": [
    "## Creating Tables"
   ]
  },
  {
   "cell_type": "code",
   "execution_count": 3,
   "id": "db58cc11",
   "metadata": {},
   "outputs": [],
   "source": [
    "Student_R = {\n",
    "    'Student_ID': ['S1', 'S2', 'S3'],\n",
    "    'Birth_date': [datetime.date(1996, 7, 14), datetime.date(1997, 8, 22), datetime.date(1998, 5, 11)]\n",
    "}\n",
    "\n",
    "Student_R = pd.DataFrame(Student_R, columns=['Student_ID', 'Birth_date'])\n",
    "\n",
    "Courses = { \n",
    "    'Student_ID':['S1', 'S2', 'S3', 'S1', 'S2', 'S3'], \n",
    "    'Grades':[18, 11, 12, 15, 19, 10]\n",
    "}\n",
    "Courses = pd.DataFrame (Courses, columns = ['Student_ID','Grades'])"
   ]
  },
  {
   "cell_type": "code",
   "execution_count": 4,
   "id": "bd5af061",
   "metadata": {},
   "outputs": [
    {
     "name": "stdout",
     "output_type": "stream",
     "text": [
      "  Student_ID  Birth_date  year\n",
      "0         S1  1996-07-14  1996\n",
      "1         S2  1997-08-22  1997\n",
      "2         S3  1998-05-11  1998\n"
     ]
    }
   ],
   "source": [
    "Student_R['year'] = pd.DatetimeIndex(Student_R['Birth_date']).year\n",
    "print(Student_R.head())"
   ]
  },
  {
   "cell_type": "code",
   "execution_count": 5,
   "id": "d70f6c58",
   "metadata": {},
   "outputs": [
    {
     "name": "stdout",
     "output_type": "stream",
     "text": [
      "            mean_grade  max_grade  min_grade\n",
      "Student_ID                                  \n",
      "S1                16.5         18         15\n",
      "S2                15.0         19         11\n",
      "S3                11.0         12         10\n",
      "Student-R with the new manual features\n",
      "   Student_ID  Birth_date  year  mean_grade  max_grade  min_grade\n",
      "0         S1  1996-07-14  1996        16.5         18         15\n",
      "1         S2  1997-08-22  1997        15.0         19         11\n",
      "2         S3  1998-05-11  1998        11.0         12         10\n"
     ]
    }
   ],
   "source": [
    "# creation of features by aggregation of grouped values\n",
    "goper = Courses.groupby('Student_ID')['Grades'].agg(['mean', 'max', 'min'])\n",
    "\n",
    "# rename columns\n",
    "goper.columns = ['mean_grade','max_grade','min_grade']\n",
    "print(goper.head()) #Creation of features by grouping tables\n",
    "\n",
    "# Merge with the Student_R dataframe\n",
    "R = Student_R.merge(goper, left_on = 'Student_ID',right_index=True, how='left').head()\n",
    "print('Student-R with the new manual features\\n', R)"
   ]
  },
  {
   "cell_type": "code",
   "execution_count": null,
   "id": "20b1d647",
   "metadata": {},
   "outputs": [],
   "source": []
  }
 ],
 "metadata": {
  "kernelspec": {
   "display_name": "Python 3 (ipykernel)",
   "language": "python",
   "name": "python3"
  },
  "language_info": {
   "codemirror_mode": {
    "name": "ipython",
    "version": 3
   },
   "file_extension": ".py",
   "mimetype": "text/x-python",
   "name": "python",
   "nbconvert_exporter": "python",
   "pygments_lexer": "ipython3",
   "version": "3.9.13"
  }
 },
 "nbformat": 4,
 "nbformat_minor": 5
}
