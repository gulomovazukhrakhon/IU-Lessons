{
 "cells": [
  {
   "cell_type": "markdown",
   "id": "76751769",
   "metadata": {},
   "source": [
    "# Notebook Imports"
   ]
  },
  {
   "cell_type": "code",
   "execution_count": 49,
   "id": "905c7024",
   "metadata": {},
   "outputs": [],
   "source": [
    "import pandas as pd\n",
    "import numpy as np\n",
    "import matplotlib.pyplot as plt\n",
    "from sklearn.cluster import KMeans"
   ]
  },
  {
   "cell_type": "code",
   "execution_count": 50,
   "id": "bb31a166",
   "metadata": {},
   "outputs": [],
   "source": [
    "# generate random variables\n",
    "X = np.random.rand(50, 2)\n",
    "Y = 2 + np.random.rand(50, 2)\n",
    "\n",
    "# gather random variable in a dataframe \n",
    "Z = np.concatenate((X, Y))\n",
    "df1 = pd.DataFrame(Z, columns=['xpt', 'ypt'])"
   ]
  },
  {
   "cell_type": "code",
   "execution_count": 51,
   "id": "36899e54",
   "metadata": {},
   "outputs": [
    {
     "data": {
      "text/html": [
       "<div>\n",
       "<style scoped>\n",
       "    .dataframe tbody tr th:only-of-type {\n",
       "        vertical-align: middle;\n",
       "    }\n",
       "\n",
       "    .dataframe tbody tr th {\n",
       "        vertical-align: top;\n",
       "    }\n",
       "\n",
       "    .dataframe thead th {\n",
       "        text-align: right;\n",
       "    }\n",
       "</style>\n",
       "<table border=\"1\" class=\"dataframe\">\n",
       "  <thead>\n",
       "    <tr style=\"text-align: right;\">\n",
       "      <th></th>\n",
       "      <th>xpt</th>\n",
       "      <th>ypt</th>\n",
       "    </tr>\n",
       "  </thead>\n",
       "  <tbody>\n",
       "    <tr>\n",
       "      <th>0</th>\n",
       "      <td>0.844112</td>\n",
       "      <td>0.677650</td>\n",
       "    </tr>\n",
       "    <tr>\n",
       "      <th>1</th>\n",
       "      <td>0.139450</td>\n",
       "      <td>0.658941</td>\n",
       "    </tr>\n",
       "    <tr>\n",
       "      <th>2</th>\n",
       "      <td>0.780536</td>\n",
       "      <td>0.538083</td>\n",
       "    </tr>\n",
       "    <tr>\n",
       "      <th>3</th>\n",
       "      <td>0.845229</td>\n",
       "      <td>0.385206</td>\n",
       "    </tr>\n",
       "    <tr>\n",
       "      <th>4</th>\n",
       "      <td>0.338005</td>\n",
       "      <td>0.996584</td>\n",
       "    </tr>\n",
       "  </tbody>\n",
       "</table>\n",
       "</div>"
      ],
      "text/plain": [
       "        xpt       ypt\n",
       "0  0.844112  0.677650\n",
       "1  0.139450  0.658941\n",
       "2  0.780536  0.538083\n",
       "3  0.845229  0.385206\n",
       "4  0.338005  0.996584"
      ]
     },
     "execution_count": 51,
     "metadata": {},
     "output_type": "execute_result"
    }
   ],
   "source": [
    "df1.head()"
   ]
  },
  {
   "cell_type": "code",
   "execution_count": 52,
   "id": "84805f50",
   "metadata": {},
   "outputs": [
    {
     "name": "stdout",
     "output_type": "stream",
     "text": [
      "[[0.49842921 0.54028753]\n",
      " [2.55919933 2.48926264]]\n"
     ]
    },
    {
     "data": {
      "text/html": [
       "<div>\n",
       "<style scoped>\n",
       "    .dataframe tbody tr th:only-of-type {\n",
       "        vertical-align: middle;\n",
       "    }\n",
       "\n",
       "    .dataframe tbody tr th {\n",
       "        vertical-align: top;\n",
       "    }\n",
       "\n",
       "    .dataframe thead th {\n",
       "        text-align: right;\n",
       "    }\n",
       "</style>\n",
       "<table border=\"1\" class=\"dataframe\">\n",
       "  <thead>\n",
       "    <tr style=\"text-align: right;\">\n",
       "      <th></th>\n",
       "      <th>xpt</th>\n",
       "      <th>ypt</th>\n",
       "    </tr>\n",
       "  </thead>\n",
       "  <tbody>\n",
       "    <tr>\n",
       "      <th>0</th>\n",
       "      <td>0.498429</td>\n",
       "      <td>0.540288</td>\n",
       "    </tr>\n",
       "    <tr>\n",
       "      <th>1</th>\n",
       "      <td>2.559199</td>\n",
       "      <td>2.489263</td>\n",
       "    </tr>\n",
       "  </tbody>\n",
       "</table>\n",
       "</div>"
      ],
      "text/plain": [
       "        xpt       ypt\n",
       "0  0.498429  0.540288\n",
       "1  2.559199  2.489263"
      ]
     },
     "execution_count": 52,
     "metadata": {},
     "output_type": "execute_result"
    }
   ],
   "source": [
    "# clustering\n",
    "kmeans = KMeans(n_clusters=2, random_state=0).fit(Z)\n",
    "\n",
    "# extract centoids of clusters into a dataframe\n",
    "centers = kmeans.cluster_centers_\n",
    "print(centers)\n",
    "centroids = pd.DataFrame(centers, columns=['xpt', 'ypt'])\n",
    "\n",
    "# extract cluster labels\n",
    "lab = kmeans.labels_\n",
    "\n",
    "# add cluster information to the dataframe\n",
    "df1['lab'] = lab\n",
    "\n",
    "centroids"
   ]
  },
  {
   "cell_type": "code",
   "execution_count": 53,
   "id": "35bfc2cd",
   "metadata": {},
   "outputs": [
    {
     "data": {
      "text/html": [
       "<div>\n",
       "<style scoped>\n",
       "    .dataframe tbody tr th:only-of-type {\n",
       "        vertical-align: middle;\n",
       "    }\n",
       "\n",
       "    .dataframe tbody tr th {\n",
       "        vertical-align: top;\n",
       "    }\n",
       "\n",
       "    .dataframe thead th {\n",
       "        text-align: right;\n",
       "    }\n",
       "</style>\n",
       "<table border=\"1\" class=\"dataframe\">\n",
       "  <thead>\n",
       "    <tr style=\"text-align: right;\">\n",
       "      <th></th>\n",
       "      <th>xpt</th>\n",
       "      <th>ypt</th>\n",
       "      <th>lab</th>\n",
       "    </tr>\n",
       "  </thead>\n",
       "  <tbody>\n",
       "    <tr>\n",
       "      <th>0</th>\n",
       "      <td>0.844112</td>\n",
       "      <td>0.677650</td>\n",
       "      <td>0</td>\n",
       "    </tr>\n",
       "    <tr>\n",
       "      <th>1</th>\n",
       "      <td>0.139450</td>\n",
       "      <td>0.658941</td>\n",
       "      <td>0</td>\n",
       "    </tr>\n",
       "    <tr>\n",
       "      <th>2</th>\n",
       "      <td>0.780536</td>\n",
       "      <td>0.538083</td>\n",
       "      <td>0</td>\n",
       "    </tr>\n",
       "    <tr>\n",
       "      <th>3</th>\n",
       "      <td>0.845229</td>\n",
       "      <td>0.385206</td>\n",
       "      <td>0</td>\n",
       "    </tr>\n",
       "    <tr>\n",
       "      <th>4</th>\n",
       "      <td>0.338005</td>\n",
       "      <td>0.996584</td>\n",
       "      <td>0</td>\n",
       "    </tr>\n",
       "  </tbody>\n",
       "</table>\n",
       "</div>"
      ],
      "text/plain": [
       "        xpt       ypt  lab\n",
       "0  0.844112  0.677650    0\n",
       "1  0.139450  0.658941    0\n",
       "2  0.780536  0.538083    0\n",
       "3  0.845229  0.385206    0\n",
       "4  0.338005  0.996584    0"
      ]
     },
     "execution_count": 53,
     "metadata": {},
     "output_type": "execute_result"
    }
   ],
   "source": [
    "df1.head()"
   ]
  },
  {
   "cell_type": "code",
   "execution_count": 54,
   "id": "2374c3eb",
   "metadata": {},
   "outputs": [
    {
     "data": {
      "text/plain": [
       "[0.6467875736180859, 0.566299900155762]"
      ]
     },
     "execution_count": 54,
     "metadata": {},
     "output_type": "execute_result"
    }
   ],
   "source": [
    "# calculate the radius around each cluster centroid, which includes the data points that were predicted to belong to this cluster.\n",
    "radii = [cdist(df1[lab == i].iloc[:, [0,1]], [center]).max() for i, center in enumerate(centers)]\n",
    "radii"
   ]
  },
  {
   "cell_type": "markdown",
   "id": "4d59edea",
   "metadata": {},
   "source": [
    "# Visualization"
   ]
  },
  {
   "cell_type": "code",
   "execution_count": 55,
   "id": "e3ecb388",
   "metadata": {},
   "outputs": [
    {
     "data": {
      "image/png": "[encoded data removed]",
      "text/plain": [
       "<Figure size 600x400 with 1 Axes>"
      ]
     },
     "metadata": {},
     "output_type": "display_data"
    }
   ],
   "source": [
    "# create a figure and axes\n",
    "fig, ax = plt.subplots(figsize=(6,4))\n",
    " \n",
    "# add data points\n",
    "ax.scatter(x=df1['xpt'], y=df1['ypt'], c=df1['lab'])\n",
    " \n",
    "# add cluster centroids\n",
    "ax.scatter(centroids['xpt'], centroids['ypt'])\n",
    " \n",
    "# set the axis scale on both axes equally\n",
    "ax.axis('equal')\n",
    " \n",
    "# draw a circle around each cluster centroid\n",
    "for c, r in zip(centers, radii):\n",
    "    ax.add_patch(plt.Circle(c, r, fc='#CCCCCC', lw=3, alpha=0.5))    \n",
    "\n",
    "# show the plot                       \n",
    "plt.show()"
   ]
  },
  {
   "cell_type": "code",
   "execution_count": null,
   "id": "e876e46a",
   "metadata": {},
   "outputs": [],
   "source": []
  }
 ],
 "metadata": {
  "kernelspec": {
   "display_name": "Python 3 (ipykernel)",
   "language": "python",
   "name": "python3"
  },
  "language_info": {
   "codemirror_mode": {
    "name": "ipython",
    "version": 3
   },
   "file_extension": ".py",
   "mimetype": "text/x-python",
   "name": "python",
   "nbconvert_exporter": "python",
   "pygments_lexer": "ipython3",
   "version": "3.9.13"
  }
 },
 "nbformat": 4,
 "nbformat_minor": 5
}
