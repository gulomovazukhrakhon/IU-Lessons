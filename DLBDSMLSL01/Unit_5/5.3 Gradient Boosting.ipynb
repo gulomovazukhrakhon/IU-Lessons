{
 "cells": [
  {
   "cell_type": "markdown",
   "id": "6083c2f8",
   "metadata": {},
   "source": [
    "# Notebook Imports"
   ]
  },
  {
   "cell_type": "code",
   "execution_count": 1,
   "id": "cb8f2d68",
   "metadata": {},
   "outputs": [],
   "source": [
    "import pandas as pd\n",
    "from sklearn.model_selection import train_test_split\n",
    "from sklearn.ensemble import GradientBoostingClassifier\n",
    "from sklearn.metrics import confusion_matrix\n",
    "from sklearn.metrics import accuracy_score"
   ]
  },
  {
   "cell_type": "code",
   "execution_count": 2,
   "id": "faceec49",
   "metadata": {},
   "outputs": [
    {
     "name": "stdout",
     "output_type": "stream",
     "text": [
      "   Week Outlook Humidity Wind  Label\n",
      "0     1   Rainy     High  Yes      0\n",
      "1     2   Sunny   Normal   No      1\n",
      "2     3   Sunny   Normal  Yes      1\n",
      "3     4   Sunny     High  Yes      0\n",
      "4     5   Rainy   Normal  Yes      0\n"
     ]
    }
   ],
   "source": [
    "# Load dataset and print 1st five rows\n",
    "dataset = pd.read_csv('takingawalk_dataset.csv', sep=';')\n",
    "print(dataset.head())"
   ]
  },
  {
   "cell_type": "code",
   "execution_count": 3,
   "id": "1c9e9b70",
   "metadata": {},
   "outputs": [
    {
     "name": "stdout",
     "output_type": "stream",
     "text": [
      "Index(['Outlook_Rainy', 'Outlook_Sunny', 'Humidity_High', 'Humidity_Normal',\n",
      "       'Wind_No', 'Wind_Yes'],\n",
      "      dtype='object')\n"
     ]
    }
   ],
   "source": [
    "X = dataset.drop(columns=[\"Label\", \"Week\"])\n",
    "y = dataset[\"Label\"]\n",
    "X = pd.get_dummies(X)\n",
    "print(X.columns)"
   ]
  },
  {
   "cell_type": "code",
   "execution_count": 4,
   "id": "dbfb65d1",
   "metadata": {},
   "outputs": [],
   "source": [
    "X_train, X_test, y_train, y_test = train_test_split(X, y, test_size=0.3, \n",
    "                                                    shuffle=True, random_state=42)"
   ]
  },
  {
   "cell_type": "code",
   "execution_count": 5,
   "id": "eb2369ea",
   "metadata": {},
   "outputs": [
    {
     "name": "stdout",
     "output_type": "stream",
     "text": [
      "Confusion Matrix:\n",
      " [[10  1]\n",
      " [ 0  5]]\n"
     ]
    }
   ],
   "source": [
    "clf = GradientBoostingClassifier(n_estimators=100, \n",
    "                                 max_depth=3, random_state=42)\n",
    "clf.fit(X_train, y_train)\n",
    "y_pred = clf.predict(X_test)\n",
    "\n",
    "print('Confusion Matrix:\\n', confusion_matrix(y_test, y_pred))"
   ]
  },
  {
   "cell_type": "code",
   "execution_count": 6,
   "id": "a5de0ff7",
   "metadata": {},
   "outputs": [
    {
     "data": {
      "text/plain": [
       "0.9375"
      ]
     },
     "execution_count": 6,
     "metadata": {},
     "output_type": "execute_result"
    }
   ],
   "source": [
    "accuracy_score(y_test, y_pred)"
   ]
  },
  {
   "cell_type": "code",
   "execution_count": 7,
   "id": "81995400",
   "metadata": {},
   "outputs": [
    {
     "name": "stdout",
     "output_type": "stream",
     "text": [
      "Feature Scores:\n",
      " Wind_No            0.196622\n",
      "Outlook_Rainy      0.188464\n",
      "Outlook_Sunny      0.187038\n",
      "Wind_Yes           0.185601\n",
      "Humidity_Normal    0.129333\n",
      "Humidity_High      0.112943\n",
      "dtype: float64\n"
     ]
    }
   ],
   "source": [
    "feature_score = pd.Series(clf.feature_importances_, \n",
    "                          index=X_train.columns).sort_values(ascending=False)\n",
    "print(\"Feature Scores:\\n\", feature_score)"
   ]
  }
 ],
 "metadata": {
  "kernelspec": {
   "display_name": "Python 3 (ipykernel)",
   "language": "python",
   "name": "python3"
  },
  "language_info": {
   "codemirror_mode": {
    "name": "ipython",
    "version": 3
   },
   "file_extension": ".py",
   "mimetype": "text/x-python",
   "name": "python",
   "nbconvert_exporter": "python",
   "pygments_lexer": "ipython3",
   "version": "3.9.13"
  }
 },
 "nbformat": 4,
 "nbformat_minor": 5
}
