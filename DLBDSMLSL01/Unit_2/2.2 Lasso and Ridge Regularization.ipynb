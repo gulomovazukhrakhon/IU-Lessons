{
 "cells": [
  {
   "cell_type": "markdown",
   "id": "8a497eff",
   "metadata": {},
   "source": [
    "# Notebook Imports"
   ]
  },
  {
   "cell_type": "code",
   "execution_count": 2,
   "id": "40678235",
   "metadata": {},
   "outputs": [],
   "source": [
    "import pandas as pd\n",
    "from sklearn.linear_model import Lasso, Ridge, ElasticNet"
   ]
  },
  {
   "cell_type": "markdown",
   "id": "88107652",
   "metadata": {},
   "source": [
    "## Load data"
   ]
  },
  {
   "cell_type": "code",
   "execution_count": 10,
   "id": "bb39b9e8",
   "metadata": {},
   "outputs": [],
   "source": [
    "data = pd.read_csv('salary_data.csv')\n",
    "X_train = data.drop(columns=['Salary'])\n",
    "y_train = data.iloc[:, 1].values"
   ]
  },
  {
   "cell_type": "markdown",
   "id": "3a46b3f0",
   "metadata": {},
   "source": [
    "## Build and Train a Ridge Model"
   ]
  },
  {
   "cell_type": "code",
   "execution_count": 11,
   "id": "99bd2cbc",
   "metadata": {},
   "outputs": [
    {
     "name": "stdout",
     "output_type": "stream",
     "text": [
      "[9409.67336683]\n"
     ]
    }
   ],
   "source": [
    "ridge_regr = Ridge(alpha=1)\n",
    "ridge_regr.fit(X_train, y_train)\n",
    "\n",
    "print(ridge_regr.coef_)"
   ]
  },
  {
   "cell_type": "markdown",
   "id": "d24b272a",
   "metadata": {},
   "source": [
    "## Build and Train a Lasso Model"
   ]
  },
  {
   "cell_type": "code",
   "execution_count": 13,
   "id": "c75c626b",
   "metadata": {},
   "outputs": [
    {
     "name": "stdout",
     "output_type": "stream",
     "text": [
      "[9449.9494765]\n"
     ]
    }
   ],
   "source": [
    "lasso_regr = Lasso(alpha=0.1)\n",
    "lasso_regr.fit(X_train, y_train)\n",
    "\n",
    "print(lasso_regr.coef_)"
   ]
  },
  {
   "cell_type": "markdown",
   "id": "703758f8",
   "metadata": {},
   "source": [
    "## Build and Train an Elastic Net Model"
   ]
  },
  {
   "cell_type": "code",
   "execution_count": 14,
   "id": "d786678f",
   "metadata": {},
   "outputs": [
    {
     "name": "stdout",
     "output_type": "stream",
     "text": [
      "[9389.6510599]\n"
     ]
    }
   ],
   "source": [
    "elastic_net = ElasticNet(alpha=0.1, l1_ratio=0.5) \n",
    "elastic_net.fit(X_train,y_train)\n",
    "\n",
    "print(elastic_net.coef_)"
   ]
  },
  {
   "cell_type": "markdown",
   "id": "83b126cf",
   "metadata": {},
   "source": [
    "## Add a redundant variable"
   ]
  },
  {
   "cell_type": "code",
   "execution_count": 17,
   "id": "883de4dc",
   "metadata": {},
   "outputs": [],
   "source": [
    "data['YearsExp/100'] = data['YearsExperience']/100\n",
    "X_train = data.drop(columns=['Salary'])\n",
    "y_train = data.iloc[:,1].values"
   ]
  },
  {
   "cell_type": "markdown",
   "id": "f68d7163",
   "metadata": {},
   "source": [
    "## Build and Train an Elastic Net Model"
   ]
  },
  {
   "cell_type": "code",
   "execution_count": 18,
   "id": "41cb4179",
   "metadata": {},
   "outputs": [
    {
     "name": "stdout",
     "output_type": "stream",
     "text": [
      "[9388.72822954   92.89695174]\n"
     ]
    }
   ],
   "source": [
    "elastic_net = ElasticNet(alpha=0.1, l1_ratio=0.5) \n",
    "elastic_net.fit(X_train,y_train)\n",
    "\n",
    "print(elastic_net.coef_)"
   ]
  },
  {
   "cell_type": "code",
   "execution_count": 19,
   "id": "ef1105e6",
   "metadata": {},
   "outputs": [
    {
     "name": "stdout",
     "output_type": "stream",
     "text": [
      "[9448.73591874    0.        ]\n"
     ]
    }
   ],
   "source": [
    "elastic_net = ElasticNet(alpha=0.1, l1_ratio=0.99) \n",
    "elastic_net.fit(X_train,y_train)\n",
    "\n",
    "print(elastic_net.coef_)"
   ]
  }
 ],
 "metadata": {
  "kernelspec": {
   "display_name": "Python 3 (ipykernel)",
   "language": "python",
   "name": "python3"
  },
  "language_info": {
   "codemirror_mode": {
    "name": "ipython",
    "version": 3
   },
   "file_extension": ".py",
   "mimetype": "text/x-python",
   "name": "python",
   "nbconvert_exporter": "python",
   "pygments_lexer": "ipython3",
   "version": "3.9.13"
  }
 },
 "nbformat": 4,
 "nbformat_minor": 5
}
