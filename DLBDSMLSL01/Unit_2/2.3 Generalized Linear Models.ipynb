{
 "cells": [
  {
   "cell_type": "markdown",
   "id": "a876d999",
   "metadata": {},
   "source": [
    "# Notebook Imports"
   ]
  },
  {
   "cell_type": "code",
   "execution_count": 1,
   "id": "5fc321ac",
   "metadata": {},
   "outputs": [],
   "source": [
    "import statsmodels.api as sm\n",
    "import pandas as pd"
   ]
  },
  {
   "cell_type": "markdown",
   "id": "b234ccb1",
   "metadata": {},
   "source": [
    "## Load data"
   ]
  },
  {
   "cell_type": "code",
   "execution_count": 2,
   "id": "cf041320",
   "metadata": {},
   "outputs": [],
   "source": [
    "dataset = pd.read_csv('salary_data.csv')\n",
    "x = dataset.drop(columns=['Salary'])\n",
    "y = dataset.iloc[:,1].values"
   ]
  },
  {
   "cell_type": "markdown",
   "id": "c7d00dde",
   "metadata": {},
   "source": [
    "### Exogeneous -- x and Endogeneous -- y variables"
   ]
  },
  {
   "cell_type": "code",
   "execution_count": 3,
   "id": "eba7de1a",
   "metadata": {},
   "outputs": [],
   "source": [
    "exog, endog = sm.add_constant(x), y"
   ]
  },
  {
   "cell_type": "markdown",
   "id": "c0d6cc97",
   "metadata": {},
   "source": [
    "## Model"
   ]
  },
  {
   "cell_type": "code",
   "execution_count": 5,
   "id": "3ddf9faf",
   "metadata": {},
   "outputs": [
    {
     "name": "stdout",
     "output_type": "stream",
     "text": [
      "                 Generalized Linear Model Regression Results                  \n",
      "==============================================================================\n",
      "Dep. Variable:                      y   No. Observations:                   30\n",
      "Model:                            GLM   Df Residuals:                       28\n",
      "Model Family:                 Poisson   Df Model:                            1\n",
      "Link Function:                    log   Scale:                          1.0000\n",
      "Method:                          IRLS   Log-Likelihood:                -9530.7\n",
      "Date:                Tue, 27 Jun 2023   Deviance:                       18671.\n",
      "Time:                        15:29:42   Pearson chi2:                 1.88e+04\n",
      "No. Iterations:                     4   Pseudo R-squ. (CS):              1.000\n",
      "Covariance Type:            nonrobust                                         \n",
      "===================================================================================\n",
      "                      coef    std err          z      P>|z|      [0.025      0.975]\n",
      "-----------------------------------------------------------------------------------\n",
      "const              10.5445      0.002   6599.092      0.000      10.541      10.548\n",
      "YearsExperience     0.1198      0.000    517.488      0.000       0.119       0.120\n",
      "===================================================================================\n"
     ]
    }
   ],
   "source": [
    "mod = sm.GLM(endog, exog, family=sm.families.Poisson(link=sm.families.links.log()))\n",
    "res = mod.fit()\n",
    "\n",
    "print(res.summary())"
   ]
  }
 ],
 "metadata": {
  "kernelspec": {
   "display_name": "Python 3 (ipykernel)",
   "language": "python",
   "name": "python3"
  },
  "language_info": {
   "codemirror_mode": {
    "name": "ipython",
    "version": 3
   },
   "file_extension": ".py",
   "mimetype": "text/x-python",
   "name": "python",
   "nbconvert_exporter": "python",
   "pygments_lexer": "ipython3",
   "version": "3.9.13"
  }
 },
 "nbformat": 4,
 "nbformat_minor": 5
}
